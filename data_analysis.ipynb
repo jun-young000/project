{
 "cells": [
  {
   "cell_type": "code",
   "execution_count": null,
   "metadata": {},
   "outputs": [],
   "source": [
    "import pandas as pd\n",
    "import numpy as np"
   ]
  },
  {
   "cell_type": "code",
   "execution_count": null,
   "metadata": {},
   "outputs": [],
   "source": [
    "df = pd.read_csv('tidy_2.csv')"
   ]
  },
  {
   "cell_type": "markdown",
   "metadata": {},
   "source": [
    "## 새로운 칼럼 만들기"
   ]
  },
  {
   "cell_type": "markdown",
   "metadata": {},
   "source": [
    "### 1) 대상인원 칼럼 만들기"
   ]
  },
  {
   "cell_type": "code",
   "execution_count": null,
   "metadata": {},
   "outputs": [],
   "source": [
    "df['대상인원'] = df['대상인원'].copy().str.extract(r'[\\s|외|총|등](\\d+)\\s?[명|인]?')\n",
    "# 대상인원이 없는 경우 운전기사 회식, 격려금 지급 등 맛집과 상관없는 경우가 많으니 삭제\n",
    "df = df.dropna(axis=0, subset=['대상인원'], how='all')\n",
    "df['대상인원'] = df['대상인원'].copy().astype(int)\n"
   ]
  },
  {
   "cell_type": "markdown",
   "metadata": {},
   "source": [
    "### 2) 년도별로 그룹화하기"
   ]
  },
  {
   "cell_type": "code",
   "execution_count": null,
   "metadata": {},
   "outputs": [],
   "source": [
    "df_2016 = df[df['year'] == 2016]\n",
    "df_2017 = df[df['year'] == 2017]\n",
    "df_2018 = df[df['year'] == 2018]\n",
    "\n",
    "dfs = [df, df_2016, df_2017, df_2018]\n",
    "df_2016.shape, df_2017.shape, df_2018.shape"
   ]
  },
  {
   "cell_type": "markdown",
   "metadata": {},
   "source": [
    "### 3) 집행지명으로 그룹화하기"
   ]
  },
  {
   "cell_type": "code",
   "execution_count": null,
   "metadata": {},
   "outputs": [],
   "source": [
    "def group_place(df):\n",
    "    df_group = df.groupby('집행지명')\\\n",
    "            ['집행지명', 'cnt', '집행금액', '대상인원']\\\n",
    "            .sum().reset_index()\n",
    "    return df_group\n",
    "\n",
    "df_2016_group = group_place(df_2016)\n",
    "df_2017_group = group_place(df_2017)\n",
    "df_2018_group = group_place(df_2018)\n",
    "df_group = group_place(df)\n",
    "\n",
    "df_groups = [df_group, df_2016_group, df_2017_group, df_2018_group]\n",
    "df_group.shape, df_2016_group.shape, df_2017_group.shape, df_2018_group.shape"
   ]
  },
  {
   "cell_type": "code",
   "execution_count": null,
   "metadata": {},
   "outputs": [],
   "source": [
    "# 회당, 인당 금액을 구해보자. \n",
    "def price_per_num_people(df_group):\n",
    "    df_group['회당집행금액'] = df_group['집행금액'] / df_group['cnt']\n",
    "    df_group['인당집행금액'] = df_group['집행금액'] / df_group['대상인원']\n",
    "    df_group['회당명수'] = df_group['대상인원'] / df_group['cnt']\n",
    "\n",
    "for df_group in df_groups:\n",
    "    df_group = price_per_num_people(df_group)\n",
    "\n",
    "df_groups[0].head()"
   ]
  },
  {
   "cell_type": "markdown",
   "metadata": {},
   "source": [
    "# 서울시 진짜 맛집 프로젝트"
   ]
  },
  {
   "cell_type": "markdown",
   "metadata": {},
   "source": [
    "## 카테고리별 맛집"
   ]
  },
  {
   "cell_type": "markdown",
   "metadata": {},
   "source": [
    "### 1. 가장 자주 간 식당 (전체 공무원)"
   ]
  },
  {
   "cell_type": "code",
   "execution_count": null,
   "metadata": {},
   "outputs": [],
   "source": [
    "def by_cnt(df_group):\n",
    "    df_group = df_group.sort_values(by='cnt', ascending=False)\n",
    "    df_group['회당명수'] = round(df_group['회당명수']).astype(int)\n",
    "    df_group['회당집행금액'] = round(df_group['회당집행금액']).astype(int)\n",
    "    df_group['인당집행금액'] = round(df_group['인당집행금액']).astype(int)\n",
    "    df_group['집행금액'] = round(df_group['집행금액']).astype(int)\n",
    "    return df_group\n",
    "\n",
    "for i, df_group in enumerate(df_groups):\n",
    "    df_groups[i] = by_cnt(df_group)"
   ]
  },
  {
   "cell_type": "code",
   "execution_count": null,
   "metadata": {},
   "outputs": [],
   "source": [
    "# 전체 공무원\n",
    "df_groups[0].head(3)"
   ]
  },
  {
   "cell_type": "code",
   "execution_count": null,
   "metadata": {},
   "outputs": [],
   "source": [
    "# 2016년\n",
    "df_groups[1].head(3)"
   ]
  },
  {
   "cell_type": "code",
   "execution_count": null,
   "metadata": {},
   "outputs": [],
   "source": [
    "# 2017년\n",
    "df_groups[2].head(3)"
   ]
  },
  {
   "cell_type": "code",
   "execution_count": null,
   "metadata": {},
   "outputs": [],
   "source": [
    "# 2018년\n",
    "df_groups[3].head(3)"
   ]
  },
  {
   "cell_type": "markdown",
   "metadata": {},
   "source": [
    "### 2. 가장 돈을 많이 쓴 식당 "
   ]
  },
  {
   "cell_type": "code",
   "execution_count": null,
   "metadata": {},
   "outputs": [],
   "source": [
    "# 전체\n",
    "df_groups[0].sort_values(by='집행금액', ascending=False).head(3)"
   ]
  },
  {
   "cell_type": "code",
   "execution_count": null,
   "metadata": {},
   "outputs": [],
   "source": [
    "# 2016년\n",
    "df_groups[1].sort_values(by='집행금액', ascending=False).head(3)"
   ]
  },
  {
   "cell_type": "code",
   "execution_count": null,
   "metadata": {},
   "outputs": [],
   "source": [
    "# 2017년\n",
    "df_groups[2].sort_values(by='집행금액', ascending=False).head(3)"
   ]
  },
  {
   "cell_type": "code",
   "execution_count": null,
   "metadata": {},
   "outputs": [],
   "source": [
    "# 2018년\n",
    "df_groups[3].sort_values(by='집행금액', ascending=False).head(3)"
   ]
  },
  {
   "cell_type": "markdown",
   "metadata": {},
   "source": [
    "### 3. 회당 집행금액이 가장 많은 식당\n",
    "(30회 이상 방문, 전체 공무원)"
   ]
  },
  {
   "cell_type": "code",
   "execution_count": null,
   "metadata": {},
   "outputs": [],
   "source": [
    "for i, df_group in enumerate(df_groups):\n",
    "    df_groups[i] = df_group[df_group['cnt']>30]"
   ]
  },
  {
   "cell_type": "code",
   "execution_count": null,
   "metadata": {},
   "outputs": [],
   "source": [
    "# 전체\n",
    "df_groups[0].sort_values(by='회당집행금액', ascending=False).head(3)"
   ]
  },
  {
   "cell_type": "code",
   "execution_count": null,
   "metadata": {},
   "outputs": [],
   "source": [
    "# 2016년\n",
    "df_groups[1].sort_values(by='회당집행금액', ascending=False).head(3)"
   ]
  },
  {
   "cell_type": "code",
   "execution_count": null,
   "metadata": {},
   "outputs": [],
   "source": [
    "# 2017년 \n",
    "df_groups[2].sort_values(by='회당집행금액', ascending=False).head(3)"
   ]
  },
  {
   "cell_type": "code",
   "execution_count": null,
   "metadata": {},
   "outputs": [],
   "source": [
    "# 2018년\n",
    "df_groups[3].sort_values(by='회당집행금액', ascending=False).head(3)"
   ]
  },
  {
   "cell_type": "markdown",
   "metadata": {},
   "source": [
    "### 4. 인당 집행금액이 가장 많은 식당"
   ]
  },
  {
   "cell_type": "code",
   "execution_count": null,
   "metadata": {},
   "outputs": [],
   "source": [
    "# 전체\n",
    "df_groups[0].sort_values(by='인당집행금액', ascending=False).head(3)"
   ]
  },
  {
   "cell_type": "code",
   "execution_count": null,
   "metadata": {},
   "outputs": [],
   "source": [
    "# 2016\n",
    "# 김영란법 생기기 전인가? 3만원이 넘는다. \n",
    "df_groups[1].sort_values(by='인당집행금액', ascending=False).head(3)"
   ]
  },
  {
   "cell_type": "code",
   "execution_count": null,
   "metadata": {},
   "outputs": [],
   "source": [
    "# 2017\n",
    "df_groups[2].sort_values(by='인당집행금액', ascending=False).head(3)"
   ]
  },
  {
   "cell_type": "code",
   "execution_count": null,
   "metadata": {},
   "outputs": [],
   "source": [
    "# 2018\n",
    "df_groups[3].sort_values(by='인당집행금액', ascending=False).head(3)"
   ]
  },
  {
   "cell_type": "markdown",
   "metadata": {},
   "source": [
    "### 5. 가장 많은 사람이 간 식당"
   ]
  },
  {
   "cell_type": "code",
   "execution_count": null,
   "metadata": {},
   "outputs": [],
   "source": [
    "# 전체\n",
    "df_groups[0].sort_values(by='대상인원', ascending=False).head(3)"
   ]
  },
  {
   "cell_type": "code",
   "execution_count": null,
   "metadata": {},
   "outputs": [],
   "source": [
    "# 2016\n",
    "df_groups[1].sort_values(by='대상인원', ascending=False).head(3)"
   ]
  },
  {
   "cell_type": "code",
   "execution_count": null,
   "metadata": {},
   "outputs": [],
   "source": [
    "# 2017\n",
    "df_groups[2].sort_values(by='대상인원', ascending=False).head(3)"
   ]
  },
  {
   "cell_type": "code",
   "execution_count": null,
   "metadata": {},
   "outputs": [],
   "source": [
    "# 2018\n",
    "df_groups[3].sort_values(by='대상인원', ascending=False).head(3)"
   ]
  },
  {
   "cell_type": "markdown",
   "metadata": {},
   "source": [
    "### 6. 단체손님이 많이 가는 식당\n",
    "8명 이상의 단체손님이 가는 식당 중 가장 자주 가는 식당"
   ]
  },
  {
   "cell_type": "code",
   "execution_count": null,
   "metadata": {},
   "outputs": [],
   "source": [
    "# 전체\n",
    "df_groups[0][df_groups[0]['회당명수']>7].sort_values(by='cnt', ascending=False).head(3)"
   ]
  },
  {
   "cell_type": "code",
   "execution_count": null,
   "metadata": {},
   "outputs": [],
   "source": [
    "# 2016년\n",
    "# 2016년엔 단체로 가지 않은 것일까, 데이터가 적은 것일까\n",
    "df_groups[1][df_groups[1]['회당명수']>7].sort_values(by='cnt', ascending=False).head(3)"
   ]
  },
  {
   "cell_type": "code",
   "execution_count": null,
   "metadata": {},
   "outputs": [],
   "source": [
    "# 2017년\n",
    "df_groups[2][df_groups[2]['회당명수']>7].sort_values(by='cnt', ascending=False).head(3)"
   ]
  },
  {
   "cell_type": "code",
   "execution_count": null,
   "metadata": {},
   "outputs": [],
   "source": [
    "# 2018년\n",
    "# 2016, 2017년에 사랑받던 제일가든이 없어지고\n",
    "# 열빈이 회식 대세인가보다\n",
    "df_groups[3][df_groups[3]['회당명수']>7].sort_values(by='cnt', ascending=False).head(3)"
   ]
  },
  {
   "cell_type": "markdown",
   "metadata": {},
   "source": [
    "## 부서별로 살펴보기"
   ]
  },
  {
   "cell_type": "code",
   "execution_count": null,
   "metadata": {},
   "outputs": [],
   "source": [
    "# 부서별로 묶기\n",
    "def make_divs(df):\n",
    "    df_divs = df.groupby('1소속부서')['cnt', 'num', '집행금액']\\\n",
    "            .sum().reset_index()\n",
    "    # 인당/회당 금액 내기\n",
    "    df_divs['인당집행금액'] = df_divs['집행금액'] / df_divs['num']\n",
    "    df_divs['회당집행금액'] = df_divs['집행금액'] / df_divs['cnt']\n",
    "    df_divs['인당집행금액'] = round(df_divs['인당집행금액']).astype(int)\n",
    "    df_divs['회당집행금액'] = round(df_divs['회당집행금액']).astype(int)\n",
    "    return df_divs\n",
    "\n",
    "df_divs=[]\n",
    "for i, df in enumerate(dfs):\n",
    "    df_divs.append(make_divs(df))"
   ]
  },
  {
   "cell_type": "markdown",
   "metadata": {},
   "source": [
    "### 1. 가장 회식을 자주 한 부서"
   ]
  },
  {
   "cell_type": "code",
   "execution_count": null,
   "metadata": {},
   "outputs": [],
   "source": [
    "# 전체\n",
    "df_divs[0].sort_values(by='cnt', ascending=False).head(3)"
   ]
  },
  {
   "cell_type": "code",
   "execution_count": null,
   "metadata": {},
   "outputs": [],
   "source": [
    "# 2016\n",
    "df_divs[1].sort_values(by='cnt', ascending=False).head(5)"
   ]
  },
  {
   "cell_type": "code",
   "execution_count": null,
   "metadata": {},
   "outputs": [],
   "source": [
    "# 2017\n",
    "df_divs[2].sort_values(by='cnt', ascending=False).head(5)"
   ]
  },
  {
   "cell_type": "code",
   "execution_count": null,
   "metadata": {},
   "outputs": [],
   "source": [
    "# 2018\n",
    "# 행정국 꾸준히 1위\n",
    "df_divs[3].sort_values(by='cnt', ascending=False).head(5)"
   ]
  },
  {
   "cell_type": "markdown",
   "metadata": {},
   "source": [
    "### 2. 가장 돈을 많이 쓴 부서"
   ]
  },
  {
   "cell_type": "code",
   "execution_count": null,
   "metadata": {},
   "outputs": [],
   "source": [
    "# 전체\n",
    "df_divs[0].sort_values(by='집행금액', ascending=False).head(3)"
   ]
  },
  {
   "cell_type": "code",
   "execution_count": null,
   "metadata": {},
   "outputs": [],
   "source": [
    "# 2016\n",
    "df_divs[1].sort_values(by='집행금액', ascending=False).head(3)"
   ]
  },
  {
   "cell_type": "code",
   "execution_count": null,
   "metadata": {},
   "outputs": [],
   "source": [
    "# 2017\n",
    "df_divs[2].sort_values(by='집행금액', ascending=False).head(3)"
   ]
  },
  {
   "cell_type": "code",
   "execution_count": null,
   "metadata": {},
   "outputs": [],
   "source": [
    "# 2018\n",
    "df_divs[3].sort_values(by='집행금액', ascending=False).head(3)"
   ]
  },
  {
   "cell_type": "markdown",
   "metadata": {},
   "source": [
    "### 3. 가장 비싼 것을 먹는 부서"
   ]
  },
  {
   "cell_type": "code",
   "execution_count": null,
   "metadata": {},
   "outputs": [],
   "source": [
    "# 전체\n",
    "df_divs[0].sort_values(by='인당집행금액', ascending=False).head(3)\n",
    "# 시장보다 부시장님들이 더 비싼 것을 먹는다!\n",
    "# 시장님은 직원들 격려 피자를 자주 사주셔서 평균 금액이 내려간듯...\n",
    "# 부시장은 1명이라 총금액은 적지만, 비싼 것을 먹는당"
   ]
  },
  {
   "cell_type": "code",
   "execution_count": null,
   "metadata": {},
   "outputs": [],
   "source": [
    "# 2016년\n",
    "# 역시 김영란법 시행 전이라 3만원이 넘는다. \n",
    "df_divs[1].sort_values(by='인당집행금액', ascending=False).head(3)"
   ]
  },
  {
   "cell_type": "code",
   "execution_count": null,
   "metadata": {},
   "outputs": [],
   "source": [
    "# 2017년\n",
    "# 라고 생각했는데 시행 후에도 3만원 넘는것 무엇...\n",
    "df_divs[2].sort_values(by='인당집행금액', ascending=False).head(3)"
   ]
  },
  {
   "cell_type": "code",
   "execution_count": null,
   "metadata": {},
   "outputs": [],
   "source": [
    "# 2018년\n",
    "# 인당 7만 5천원?? 나중에 부시장 데이터 꼼꼼히 살펴보기\n",
    "df_divs[3].sort_values(by='인당집행금액', ascending=False).head(3)"
   ]
  },
  {
   "cell_type": "markdown",
   "metadata": {},
   "source": [
    "### 4. 가장 싼 것을 먹는 부서"
   ]
  },
  {
   "cell_type": "code",
   "execution_count": null,
   "metadata": {},
   "outputs": [],
   "source": [
    "# 전체\n",
    "df_divs[0].sort_values(by='인당집행금액', ascending=True).head(3)\n",
    "# 인당 6000원대라니 8배 차이나는 이 빈부격차 무엇.."
   ]
  },
  {
   "cell_type": "code",
   "execution_count": null,
   "metadata": {},
   "outputs": [],
   "source": [
    "# 2016년\n",
    "df_divs[1].sort_values(by='인당집행금액', ascending=True).head(3)"
   ]
  },
  {
   "cell_type": "code",
   "execution_count": null,
   "metadata": {},
   "outputs": [],
   "source": [
    "# 2017년\n",
    "df_divs[2].sort_values(by='인당집행금액', ascending=True).head(3)"
   ]
  },
  {
   "cell_type": "code",
   "execution_count": null,
   "metadata": {},
   "outputs": [],
   "source": [
    "# 2018년\n",
    "# 재무국이 꾸준하게 하위권. 시의 예산을 보면 차마 비싼 것을 먹을 수 없는 것일까\n",
    "df_divs[3].sort_values(by='인당집행금액', ascending=True).head(3)"
   ]
  },
  {
   "cell_type": "code",
   "execution_count": null,
   "metadata": {},
   "outputs": [],
   "source": []
  }
 ],
 "metadata": {
  "kernelspec": {
   "display_name": "Python 3",
   "language": "python",
   "name": "python3"
  },
  "language_info": {
   "codemirror_mode": {
    "name": "ipython",
    "version": 3
   },
   "file_extension": ".py",
   "mimetype": "text/x-python",
   "name": "python",
   "nbconvert_exporter": "python",
   "pygments_lexer": "ipython3",
   "version": "3.6.5"
  }
 },
 "nbformat": 4,
 "nbformat_minor": 2
}
