{
 "cells": [
  {
   "cell_type": "code",
   "execution_count": 344,
   "metadata": {},
   "outputs": [],
   "source": [
    "import pandas as pd\n",
    "import numpy as np\n",
    "import seaborn as sns"
   ]
  },
  {
   "cell_type": "code",
   "execution_count": 345,
   "metadata": {},
   "outputs": [],
   "source": [
    "df = pd.read_csv('tidy_2.csv',encoding='utf-8')"
   ]
  },
  {
   "cell_type": "markdown",
   "metadata": {},
   "source": [
    "## 새로운 칼럼 만들기"
   ]
  },
  {
   "cell_type": "markdown",
   "metadata": {},
   "source": [
    "### 1) 대상인원 칼럼 만들기"
   ]
  },
  {
   "cell_type": "code",
   "execution_count": 346,
   "metadata": {},
   "outputs": [],
   "source": [
    "df['대상인원'] = df['대상인원'].copy().str.extract(r'[\\s|외|총|등](\\d+)\\s?[명|인]?')\n",
    "# 대상인원이 없는 경우 운전기사 회식, 격려금 지급 등 맛집과 상관없는 경우가 많으니 삭제\n",
    "df = df.dropna(axis=0, subset=['대상인원'], how='all')\n",
    "df['대상인원'] = df['대상인원'].copy().astype(int)\n"
   ]
  },
  {
   "cell_type": "markdown",
   "metadata": {},
   "source": [
    "### 2) 년도별로 그룹화하기"
   ]
  },
  {
   "cell_type": "code",
   "execution_count": 347,
   "metadata": {},
   "outputs": [
    {
     "data": {
      "text/plain": [
       "((498, 15), (1500, 15), (1370, 15), (2067, 15), (1560, 15), (721, 15))"
      ]
     },
     "execution_count": 347,
     "metadata": {},
     "output_type": "execute_result"
    }
   ],
   "source": [
    "df_2016 = df[df['year'] == 2016]\n",
    "df_2017 = df[df['year'] == 2017]\n",
    "df_2018 = df[df['year'] == 2018]\n",
    "df_2019 = df[df['year'] == 2019]\n",
    "df_2020 = df[df['year'] == 2020]\n",
    "df_2021 = df[df['year'] == 2021]\n",
    "\n",
    "dfs = [df, df_2016, df_2017, df_2018, df_2019, df_2020, df_2021]\n",
    "df_2016.shape, df_2017.shape, df_2018.shape, df_2019.shape, df_2020.shape, df_2021.shape"
   ]
  },
  {
   "cell_type": "markdown",
   "metadata": {},
   "source": [
    "### 3) 집행지명으로 그룹화하기"
   ]
  },
  {
   "cell_type": "code",
   "execution_count": 348,
   "metadata": {},
   "outputs": [
    {
     "name": "stderr",
     "output_type": "stream",
     "text": [
      "<ipython-input-348-3ed1c11bd71d>:2: FutureWarning: Indexing with multiple keys (implicitly converted to a tuple of keys) will be deprecated, use a list instead.\n",
      "  df_group = df.groupby('집행지명')\\\n"
     ]
    },
    {
     "data": {
      "text/plain": [
       "((1679, 4), (272, 4), (473, 4), (500, 4), (556, 4), (520, 4), (299, 4))"
      ]
     },
     "execution_count": 348,
     "metadata": {},
     "output_type": "execute_result"
    }
   ],
   "source": [
    "def group_place(df):\n",
    "    df_group = df.groupby('집행지명')\\\n",
    "            ['집행지명', 'cnt', '집행금액', '대상인원']\\\n",
    "            .sum().reset_index()\n",
    "    return df_group\n",
    "\n",
    "df_2016_group = group_place(df_2016)\n",
    "df_2017_group = group_place(df_2017)\n",
    "df_2018_group = group_place(df_2018)\n",
    "df_2019_group = group_place(df_2019)\n",
    "df_2020_group = group_place(df_2020)\n",
    "df_2021_group = group_place(df_2021)\n",
    "df_group = group_place(df)\n",
    "\n",
    "df_groups = [df_group, df_2016_group, df_2017_group, df_2018_group, df_2019_group, df_2020_group, df_2021_group]\n",
    "df_group.shape, df_2016_group.shape, df_2017_group.shape, df_2018_group.shape, df_2019_group.shape, df_2020_group.shape, df_2021_group.shape"
   ]
  },
  {
   "cell_type": "code",
   "execution_count": 349,
   "metadata": {},
   "outputs": [
    {
     "data": {
      "text/html": [
       "<div>\n",
       "<style scoped>\n",
       "    .dataframe tbody tr th:only-of-type {\n",
       "        vertical-align: middle;\n",
       "    }\n",
       "\n",
       "    .dataframe tbody tr th {\n",
       "        vertical-align: top;\n",
       "    }\n",
       "\n",
       "    .dataframe thead th {\n",
       "        text-align: right;\n",
       "    }\n",
       "</style>\n",
       "<table border=\"1\" class=\"dataframe\">\n",
       "  <thead>\n",
       "    <tr style=\"text-align: right;\">\n",
       "      <th></th>\n",
       "      <th>집행지명</th>\n",
       "      <th>cnt</th>\n",
       "      <th>집행금액</th>\n",
       "      <th>대상인원</th>\n",
       "      <th>회당집행금액</th>\n",
       "      <th>인당집행금액</th>\n",
       "      <th>회당명수</th>\n",
       "    </tr>\n",
       "  </thead>\n",
       "  <tbody>\n",
       "    <tr>\n",
       "      <th>0</th>\n",
       "      <td>(주)강가</td>\n",
       "      <td>15</td>\n",
       "      <td>302700</td>\n",
       "      <td>13</td>\n",
       "      <td>20180.000000</td>\n",
       "      <td>23284.615385</td>\n",
       "      <td>0.866667</td>\n",
       "    </tr>\n",
       "    <tr>\n",
       "      <th>1</th>\n",
       "      <td>(주)골방집</td>\n",
       "      <td>3</td>\n",
       "      <td>20000</td>\n",
       "      <td>2</td>\n",
       "      <td>6666.666667</td>\n",
       "      <td>10000.000000</td>\n",
       "      <td>0.666667</td>\n",
       "    </tr>\n",
       "    <tr>\n",
       "      <th>2</th>\n",
       "      <td>(주)광화문아띠</td>\n",
       "      <td>5</td>\n",
       "      <td>116000</td>\n",
       "      <td>4</td>\n",
       "      <td>23200.000000</td>\n",
       "      <td>29000.000000</td>\n",
       "      <td>0.800000</td>\n",
       "    </tr>\n",
       "    <tr>\n",
       "      <th>3</th>\n",
       "      <td>(주)광화문아띠(친니&amp;바심)</td>\n",
       "      <td>24</td>\n",
       "      <td>480000</td>\n",
       "      <td>23</td>\n",
       "      <td>20000.000000</td>\n",
       "      <td>20869.565217</td>\n",
       "      <td>0.958333</td>\n",
       "    </tr>\n",
       "    <tr>\n",
       "      <th>4</th>\n",
       "      <td>(주)나무와벽돌</td>\n",
       "      <td>8</td>\n",
       "      <td>97200</td>\n",
       "      <td>6</td>\n",
       "      <td>12150.000000</td>\n",
       "      <td>16200.000000</td>\n",
       "      <td>0.750000</td>\n",
       "    </tr>\n",
       "  </tbody>\n",
       "</table>\n",
       "</div>"
      ],
      "text/plain": [
       "              집행지명  cnt    집행금액  대상인원        회당집행금액        인당집행금액      회당명수\n",
       "0            (주)강가   15  302700    13  20180.000000  23284.615385  0.866667\n",
       "1           (주)골방집    3   20000     2   6666.666667  10000.000000  0.666667\n",
       "2         (주)광화문아띠    5  116000     4  23200.000000  29000.000000  0.800000\n",
       "3  (주)광화문아띠(친니&바심)   24  480000    23  20000.000000  20869.565217  0.958333\n",
       "4         (주)나무와벽돌    8   97200     6  12150.000000  16200.000000  0.750000"
      ]
     },
     "execution_count": 349,
     "metadata": {},
     "output_type": "execute_result"
    }
   ],
   "source": [
    "# 회당, 인당 금액을 구해보자. \n",
    "def price_per_num_people(df_group):\n",
    "    df_group['회당집행금액'] = df_group['집행금액'] / df_group['cnt']\n",
    "    df_group['인당집행금액'] = df_group['집행금액'] / df_group['대상인원']\n",
    "    df_group['회당명수'] = df_group['대상인원'] / df_group['cnt']\n",
    "\n",
    "for df_group in df_groups:\n",
    "    df_group = price_per_num_people(df_group)\n",
    "\n",
    "df_groups[0].head()"
   ]
  },
  {
   "cell_type": "markdown",
   "metadata": {},
   "source": [
    "# 서울시 진짜 맛집 프로젝트"
   ]
  },
  {
   "cell_type": "markdown",
   "metadata": {},
   "source": [
    "## 카테고리별 맛집"
   ]
  },
  {
   "cell_type": "markdown",
   "metadata": {},
   "source": [
    "### 1. 가장 자주 간 식당 (전체 공무원)"
   ]
  },
  {
   "cell_type": "code",
   "execution_count": 350,
   "metadata": {},
   "outputs": [],
   "source": [
    "def by_cnt(df_group):\n",
    "    df_group = df_group.sort_values(by='cnt', ascending=False)\n",
    "    df_group['회당명수'] = round(df_group['회당명수']).astype(int)\n",
    "    df_group['회당집행금액'] = round(df_group['회당집행금액']).astype(int)\n",
    "    df_group['인당집행금액'] = round(df_group['인당집행금액']).astype(int)\n",
    "    df_group['집행금액'] = round(df_group['집행금액']).astype(int)\n",
    "    return df_group\n",
    "\n",
    "for i, df_group in enumerate(df_groups):\n",
    "    df_groups[i] = by_cnt(df_group)"
   ]
  },
  {
   "cell_type": "code",
   "execution_count": 360,
   "metadata": {},
   "outputs": [
    {
     "data": {
      "text/html": [
       "<div>\n",
       "<style scoped>\n",
       "    .dataframe tbody tr th:only-of-type {\n",
       "        vertical-align: middle;\n",
       "    }\n",
       "\n",
       "    .dataframe tbody tr th {\n",
       "        vertical-align: top;\n",
       "    }\n",
       "\n",
       "    .dataframe thead th {\n",
       "        text-align: right;\n",
       "    }\n",
       "</style>\n",
       "<table border=\"1\" class=\"dataframe\">\n",
       "  <thead>\n",
       "    <tr style=\"text-align: right;\">\n",
       "      <th></th>\n",
       "      <th>집행지명</th>\n",
       "      <th>cnt</th>\n",
       "      <th>집행금액</th>\n",
       "      <th>대상인원</th>\n",
       "      <th>회당집행금액</th>\n",
       "      <th>인당집행금액</th>\n",
       "      <th>회당명수</th>\n",
       "    </tr>\n",
       "  </thead>\n",
       "  <tbody>\n",
       "    <tr>\n",
       "      <th>1334</th>\n",
       "      <td>참숯골</td>\n",
       "      <td>1137</td>\n",
       "      <td>19053100</td>\n",
       "      <td>982</td>\n",
       "      <td>16757</td>\n",
       "      <td>19402</td>\n",
       "      <td>1</td>\n",
       "    </tr>\n",
       "    <tr>\n",
       "      <th>523</th>\n",
       "      <td>만복림</td>\n",
       "      <td>766</td>\n",
       "      <td>16694400</td>\n",
       "      <td>670</td>\n",
       "      <td>21794</td>\n",
       "      <td>24917</td>\n",
       "      <td>1</td>\n",
       "    </tr>\n",
       "    <tr>\n",
       "      <th>608</th>\n",
       "      <td>바닷가작은부엌</td>\n",
       "      <td>700</td>\n",
       "      <td>15119400</td>\n",
       "      <td>604</td>\n",
       "      <td>21599</td>\n",
       "      <td>25032</td>\n",
       "      <td>1</td>\n",
       "    </tr>\n",
       "  </tbody>\n",
       "</table>\n",
       "</div>"
      ],
      "text/plain": [
       "         집행지명   cnt      집행금액  대상인원  회당집행금액  인당집행금액  회당명수\n",
       "1334      참숯골  1137  19053100   982   16757   19402     1\n",
       "523       만복림   766  16694400   670   21794   24917     1\n",
       "608   바닷가작은부엌   700  15119400   604   21599   25032     1"
      ]
     },
     "execution_count": 360,
     "metadata": {},
     "output_type": "execute_result"
    }
   ],
   "source": [
    "# 전체 공무원\n",
    "df_groups[0].head(3)\n",
    "totla=df_groups[0].head(3)"
   ]
  },
  {
   "cell_type": "code",
   "execution_count": 352,
   "metadata": {},
   "outputs": [
    {
     "data": {
      "text/html": [
       "<div>\n",
       "<style scoped>\n",
       "    .dataframe tbody tr th:only-of-type {\n",
       "        vertical-align: middle;\n",
       "    }\n",
       "\n",
       "    .dataframe tbody tr th {\n",
       "        vertical-align: top;\n",
       "    }\n",
       "\n",
       "    .dataframe thead th {\n",
       "        text-align: right;\n",
       "    }\n",
       "</style>\n",
       "<table border=\"1\" class=\"dataframe\">\n",
       "  <thead>\n",
       "    <tr style=\"text-align: right;\">\n",
       "      <th></th>\n",
       "      <th>집행지명</th>\n",
       "      <th>cnt</th>\n",
       "      <th>집행금액</th>\n",
       "      <th>대상인원</th>\n",
       "      <th>회당집행금액</th>\n",
       "      <th>인당집행금액</th>\n",
       "      <th>회당명수</th>\n",
       "    </tr>\n",
       "  </thead>\n",
       "  <tbody>\n",
       "    <tr>\n",
       "      <th>58</th>\n",
       "      <td>던킨도너츠</td>\n",
       "      <td>501</td>\n",
       "      <td>2000000</td>\n",
       "      <td>500</td>\n",
       "      <td>3992</td>\n",
       "      <td>4000</td>\n",
       "      <td>1</td>\n",
       "    </tr>\n",
       "    <tr>\n",
       "      <th>88</th>\n",
       "      <td>몽중헌</td>\n",
       "      <td>168</td>\n",
       "      <td>5224000</td>\n",
       "      <td>150</td>\n",
       "      <td>31095</td>\n",
       "      <td>34827</td>\n",
       "      <td>1</td>\n",
       "    </tr>\n",
       "    <tr>\n",
       "      <th>51</th>\n",
       "      <td>달개비자연음식</td>\n",
       "      <td>143</td>\n",
       "      <td>4091700</td>\n",
       "      <td>128</td>\n",
       "      <td>28613</td>\n",
       "      <td>31966</td>\n",
       "      <td>1</td>\n",
       "    </tr>\n",
       "  </tbody>\n",
       "</table>\n",
       "</div>"
      ],
      "text/plain": [
       "       집행지명  cnt     집행금액  대상인원  회당집행금액  인당집행금액  회당명수\n",
       "58    던킨도너츠  501  2000000   500    3992    4000     1\n",
       "88      몽중헌  168  5224000   150   31095   34827     1\n",
       "51  달개비자연음식  143  4091700   128   28613   31966     1"
      ]
     },
     "execution_count": 352,
     "metadata": {},
     "output_type": "execute_result"
    }
   ],
   "source": [
    "# 2016년\n",
    "df_groups[1].head(3)"
   ]
  },
  {
   "cell_type": "code",
   "execution_count": 353,
   "metadata": {},
   "outputs": [
    {
     "data": {
      "text/html": [
       "<div>\n",
       "<style scoped>\n",
       "    .dataframe tbody tr th:only-of-type {\n",
       "        vertical-align: middle;\n",
       "    }\n",
       "\n",
       "    .dataframe tbody tr th {\n",
       "        vertical-align: top;\n",
       "    }\n",
       "\n",
       "    .dataframe thead th {\n",
       "        text-align: right;\n",
       "    }\n",
       "</style>\n",
       "<table border=\"1\" class=\"dataframe\">\n",
       "  <thead>\n",
       "    <tr style=\"text-align: right;\">\n",
       "      <th></th>\n",
       "      <th>집행지명</th>\n",
       "      <th>cnt</th>\n",
       "      <th>집행금액</th>\n",
       "      <th>대상인원</th>\n",
       "      <th>회당집행금액</th>\n",
       "      <th>인당집행금액</th>\n",
       "      <th>회당명수</th>\n",
       "    </tr>\n",
       "  </thead>\n",
       "  <tbody>\n",
       "    <tr>\n",
       "      <th>373</th>\n",
       "      <td>참숯골</td>\n",
       "      <td>237</td>\n",
       "      <td>3537700</td>\n",
       "      <td>204</td>\n",
       "      <td>14927</td>\n",
       "      <td>17342</td>\n",
       "      <td>1</td>\n",
       "    </tr>\n",
       "    <tr>\n",
       "      <th>188</th>\n",
       "      <td>빚은</td>\n",
       "      <td>236</td>\n",
       "      <td>1621000</td>\n",
       "      <td>229</td>\n",
       "      <td>6869</td>\n",
       "      <td>7079</td>\n",
       "      <td>1</td>\n",
       "    </tr>\n",
       "    <tr>\n",
       "      <th>275</th>\n",
       "      <td>열빈</td>\n",
       "      <td>229</td>\n",
       "      <td>4696000</td>\n",
       "      <td>210</td>\n",
       "      <td>20507</td>\n",
       "      <td>22362</td>\n",
       "      <td>1</td>\n",
       "    </tr>\n",
       "  </tbody>\n",
       "</table>\n",
       "</div>"
      ],
      "text/plain": [
       "    집행지명  cnt     집행금액  대상인원  회당집행금액  인당집행금액  회당명수\n",
       "373  참숯골  237  3537700   204   14927   17342     1\n",
       "188   빚은  236  1621000   229    6869    7079     1\n",
       "275   열빈  229  4696000   210   20507   22362     1"
      ]
     },
     "execution_count": 353,
     "metadata": {},
     "output_type": "execute_result"
    }
   ],
   "source": [
    "# 2017년\n",
    "df_groups[2].head(3)"
   ]
  },
  {
   "cell_type": "code",
   "execution_count": 354,
   "metadata": {},
   "outputs": [
    {
     "data": {
      "text/html": [
       "<div>\n",
       "<style scoped>\n",
       "    .dataframe tbody tr th:only-of-type {\n",
       "        vertical-align: middle;\n",
       "    }\n",
       "\n",
       "    .dataframe tbody tr th {\n",
       "        vertical-align: top;\n",
       "    }\n",
       "\n",
       "    .dataframe thead th {\n",
       "        text-align: right;\n",
       "    }\n",
       "</style>\n",
       "<table border=\"1\" class=\"dataframe\">\n",
       "  <thead>\n",
       "    <tr style=\"text-align: right;\">\n",
       "      <th></th>\n",
       "      <th>집행지명</th>\n",
       "      <th>cnt</th>\n",
       "      <th>집행금액</th>\n",
       "      <th>대상인원</th>\n",
       "      <th>회당집행금액</th>\n",
       "      <th>인당집행금액</th>\n",
       "      <th>회당명수</th>\n",
       "    </tr>\n",
       "  </thead>\n",
       "  <tbody>\n",
       "    <tr>\n",
       "      <th>302</th>\n",
       "      <td>연남빠니니</td>\n",
       "      <td>500</td>\n",
       "      <td>1940000</td>\n",
       "      <td>499</td>\n",
       "      <td>3880</td>\n",
       "      <td>3888</td>\n",
       "      <td>1</td>\n",
       "    </tr>\n",
       "    <tr>\n",
       "      <th>147</th>\n",
       "      <td>만복림</td>\n",
       "      <td>303</td>\n",
       "      <td>7110800</td>\n",
       "      <td>274</td>\n",
       "      <td>23468</td>\n",
       "      <td>25952</td>\n",
       "      <td>1</td>\n",
       "    </tr>\n",
       "    <tr>\n",
       "      <th>181</th>\n",
       "      <td>바닷가작은부엌</td>\n",
       "      <td>290</td>\n",
       "      <td>6679000</td>\n",
       "      <td>248</td>\n",
       "      <td>23031</td>\n",
       "      <td>26931</td>\n",
       "      <td>1</td>\n",
       "    </tr>\n",
       "  </tbody>\n",
       "</table>\n",
       "</div>"
      ],
      "text/plain": [
       "        집행지명  cnt     집행금액  대상인원  회당집행금액  인당집행금액  회당명수\n",
       "302    연남빠니니  500  1940000   499    3880    3888     1\n",
       "147      만복림  303  7110800   274   23468   25952     1\n",
       "181  바닷가작은부엌  290  6679000   248   23031   26931     1"
      ]
     },
     "execution_count": 354,
     "metadata": {},
     "output_type": "execute_result"
    }
   ],
   "source": [
    "# 2018년\n",
    "df_groups[3].head(3)"
   ]
  },
  {
   "cell_type": "code",
   "execution_count": 355,
   "metadata": {},
   "outputs": [
    {
     "data": {
      "text/html": [
       "<div>\n",
       "<style scoped>\n",
       "    .dataframe tbody tr th:only-of-type {\n",
       "        vertical-align: middle;\n",
       "    }\n",
       "\n",
       "    .dataframe tbody tr th {\n",
       "        vertical-align: top;\n",
       "    }\n",
       "\n",
       "    .dataframe thead th {\n",
       "        text-align: right;\n",
       "    }\n",
       "</style>\n",
       "<table border=\"1\" class=\"dataframe\">\n",
       "  <thead>\n",
       "    <tr style=\"text-align: right;\">\n",
       "      <th></th>\n",
       "      <th>집행지명</th>\n",
       "      <th>cnt</th>\n",
       "      <th>집행금액</th>\n",
       "      <th>대상인원</th>\n",
       "      <th>회당집행금액</th>\n",
       "      <th>인당집행금액</th>\n",
       "      <th>회당명수</th>\n",
       "    </tr>\n",
       "  </thead>\n",
       "  <tbody>\n",
       "    <tr>\n",
       "      <th>339</th>\n",
       "      <td>엔젤호두파이</td>\n",
       "      <td>601</td>\n",
       "      <td>2640000</td>\n",
       "      <td>600</td>\n",
       "      <td>4393</td>\n",
       "      <td>4400</td>\n",
       "      <td>1</td>\n",
       "    </tr>\n",
       "    <tr>\n",
       "      <th>457</th>\n",
       "      <td>참숯골</td>\n",
       "      <td>414</td>\n",
       "      <td>6852000</td>\n",
       "      <td>358</td>\n",
       "      <td>16551</td>\n",
       "      <td>19140</td>\n",
       "      <td>1</td>\n",
       "    </tr>\n",
       "    <tr>\n",
       "      <th>190</th>\n",
       "      <td>만복림</td>\n",
       "      <td>394</td>\n",
       "      <td>8233100</td>\n",
       "      <td>335</td>\n",
       "      <td>20896</td>\n",
       "      <td>24576</td>\n",
       "      <td>1</td>\n",
       "    </tr>\n",
       "  </tbody>\n",
       "</table>\n",
       "</div>"
      ],
      "text/plain": [
       "       집행지명  cnt     집행금액  대상인원  회당집행금액  인당집행금액  회당명수\n",
       "339  엔젤호두파이  601  2640000   600    4393    4400     1\n",
       "457     참숯골  414  6852000   358   16551   19140     1\n",
       "190     만복림  394  8233100   335   20896   24576     1"
      ]
     },
     "execution_count": 355,
     "metadata": {},
     "output_type": "execute_result"
    }
   ],
   "source": [
    "# 2019년\n",
    "df_groups[4].head(3)"
   ]
  },
  {
   "cell_type": "code",
   "execution_count": 356,
   "metadata": {},
   "outputs": [
    {
     "data": {
      "text/html": [
       "<div>\n",
       "<style scoped>\n",
       "    .dataframe tbody tr th:only-of-type {\n",
       "        vertical-align: middle;\n",
       "    }\n",
       "\n",
       "    .dataframe tbody tr th {\n",
       "        vertical-align: top;\n",
       "    }\n",
       "\n",
       "    .dataframe thead th {\n",
       "        text-align: right;\n",
       "    }\n",
       "</style>\n",
       "<table border=\"1\" class=\"dataframe\">\n",
       "  <thead>\n",
       "    <tr style=\"text-align: right;\">\n",
       "      <th></th>\n",
       "      <th>집행지명</th>\n",
       "      <th>cnt</th>\n",
       "      <th>집행금액</th>\n",
       "      <th>대상인원</th>\n",
       "      <th>회당집행금액</th>\n",
       "      <th>인당집행금액</th>\n",
       "      <th>회당명수</th>\n",
       "    </tr>\n",
       "  </thead>\n",
       "  <tbody>\n",
       "    <tr>\n",
       "      <th>318</th>\n",
       "      <td>엄마손마트</td>\n",
       "      <td>300</td>\n",
       "      <td>2485600</td>\n",
       "      <td>299</td>\n",
       "      <td>8285</td>\n",
       "      <td>8313</td>\n",
       "      <td>1</td>\n",
       "    </tr>\n",
       "    <tr>\n",
       "      <th>22</th>\n",
       "      <td>㈜바닷가작은부엌덕수궁점</td>\n",
       "      <td>297</td>\n",
       "      <td>5597000</td>\n",
       "      <td>259</td>\n",
       "      <td>18845</td>\n",
       "      <td>21610</td>\n",
       "      <td>1</td>\n",
       "    </tr>\n",
       "    <tr>\n",
       "      <th>197</th>\n",
       "      <td>배재반점</td>\n",
       "      <td>284</td>\n",
       "      <td>6331000</td>\n",
       "      <td>246</td>\n",
       "      <td>22292</td>\n",
       "      <td>25736</td>\n",
       "      <td>1</td>\n",
       "    </tr>\n",
       "  </tbody>\n",
       "</table>\n",
       "</div>"
      ],
      "text/plain": [
       "             집행지명  cnt     집행금액  대상인원  회당집행금액  인당집행금액  회당명수\n",
       "318         엄마손마트  300  2485600   299    8285    8313     1\n",
       "22   ㈜바닷가작은부엌덕수궁점  297  5597000   259   18845   21610     1\n",
       "197          배재반점  284  6331000   246   22292   25736     1"
      ]
     },
     "execution_count": 356,
     "metadata": {},
     "output_type": "execute_result"
    }
   ],
   "source": [
    "# 2020년\n",
    "df_groups[5].head(3)"
   ]
  },
  {
   "cell_type": "code",
   "execution_count": 278,
   "metadata": {},
   "outputs": [
    {
     "data": {
      "text/html": [
       "<div>\n",
       "<style scoped>\n",
       "    .dataframe tbody tr th:only-of-type {\n",
       "        vertical-align: middle;\n",
       "    }\n",
       "\n",
       "    .dataframe tbody tr th {\n",
       "        vertical-align: top;\n",
       "    }\n",
       "\n",
       "    .dataframe thead th {\n",
       "        text-align: right;\n",
       "    }\n",
       "</style>\n",
       "<table border=\"1\" class=\"dataframe\">\n",
       "  <thead>\n",
       "    <tr style=\"text-align: right;\">\n",
       "      <th></th>\n",
       "      <th>집행지명</th>\n",
       "      <th>cnt</th>\n",
       "      <th>집행금액</th>\n",
       "      <th>대상인원</th>\n",
       "      <th>회당집행금액</th>\n",
       "      <th>인당집행금액</th>\n",
       "      <th>회당명수</th>\n",
       "    </tr>\n",
       "  </thead>\n",
       "  <tbody>\n",
       "    <tr>\n",
       "      <th>6</th>\n",
       "      <td>㈜바닷가작은부엌덕수궁점</td>\n",
       "      <td>101</td>\n",
       "      <td>2590100</td>\n",
       "      <td>79</td>\n",
       "      <td>25645</td>\n",
       "      <td>32786</td>\n",
       "      <td>1</td>\n",
       "    </tr>\n",
       "    <tr>\n",
       "      <th>50</th>\n",
       "      <td>대복</td>\n",
       "      <td>95</td>\n",
       "      <td>1933000</td>\n",
       "      <td>73</td>\n",
       "      <td>20347</td>\n",
       "      <td>26479</td>\n",
       "      <td>1</td>\n",
       "    </tr>\n",
       "    <tr>\n",
       "      <th>152</th>\n",
       "      <td>송탄영빈루</td>\n",
       "      <td>89</td>\n",
       "      <td>1651000</td>\n",
       "      <td>66</td>\n",
       "      <td>18551</td>\n",
       "      <td>25015</td>\n",
       "      <td>1</td>\n",
       "    </tr>\n",
       "  </tbody>\n",
       "</table>\n",
       "</div>"
      ],
      "text/plain": [
       "             집행지명  cnt     집행금액  대상인원  회당집행금액  인당집행금액  회당명수\n",
       "6    ㈜바닷가작은부엌덕수궁점  101  2590100    79   25645   32786     1\n",
       "50             대복   95  1933000    73   20347   26479     1\n",
       "152         송탄영빈루   89  1651000    66   18551   25015     1"
      ]
     },
     "execution_count": 278,
     "metadata": {},
     "output_type": "execute_result"
    }
   ],
   "source": [
    "# 2021년도\n",
    "df_groups[6].head(3)"
   ]
  },
  {
   "cell_type": "markdown",
   "metadata": {},
   "source": [
    "### 2. 가장 돈을 많이 쓴 식당 "
   ]
  },
  {
   "cell_type": "code",
   "execution_count": 279,
   "metadata": {},
   "outputs": [
    {
     "data": {
      "text/html": [
       "<div>\n",
       "<style scoped>\n",
       "    .dataframe tbody tr th:only-of-type {\n",
       "        vertical-align: middle;\n",
       "    }\n",
       "\n",
       "    .dataframe tbody tr th {\n",
       "        vertical-align: top;\n",
       "    }\n",
       "\n",
       "    .dataframe thead th {\n",
       "        text-align: right;\n",
       "    }\n",
       "</style>\n",
       "<table border=\"1\" class=\"dataframe\">\n",
       "  <thead>\n",
       "    <tr style=\"text-align: right;\">\n",
       "      <th></th>\n",
       "      <th>집행지명</th>\n",
       "      <th>cnt</th>\n",
       "      <th>집행금액</th>\n",
       "      <th>대상인원</th>\n",
       "      <th>회당집행금액</th>\n",
       "      <th>인당집행금액</th>\n",
       "      <th>회당명수</th>\n",
       "    </tr>\n",
       "  </thead>\n",
       "  <tbody>\n",
       "    <tr>\n",
       "      <th>1334</th>\n",
       "      <td>참숯골</td>\n",
       "      <td>1137</td>\n",
       "      <td>19053100</td>\n",
       "      <td>982</td>\n",
       "      <td>16757</td>\n",
       "      <td>19402</td>\n",
       "      <td>1</td>\n",
       "    </tr>\n",
       "    <tr>\n",
       "      <th>523</th>\n",
       "      <td>만복림</td>\n",
       "      <td>766</td>\n",
       "      <td>16694400</td>\n",
       "      <td>670</td>\n",
       "      <td>21794</td>\n",
       "      <td>24917</td>\n",
       "      <td>1</td>\n",
       "    </tr>\n",
       "    <tr>\n",
       "      <th>608</th>\n",
       "      <td>바닷가작은부엌</td>\n",
       "      <td>700</td>\n",
       "      <td>15119400</td>\n",
       "      <td>604</td>\n",
       "      <td>21599</td>\n",
       "      <td>25032</td>\n",
       "      <td>1</td>\n",
       "    </tr>\n",
       "  </tbody>\n",
       "</table>\n",
       "</div>"
      ],
      "text/plain": [
       "         집행지명   cnt      집행금액  대상인원  회당집행금액  인당집행금액  회당명수\n",
       "1334      참숯골  1137  19053100   982   16757   19402     1\n",
       "523       만복림   766  16694400   670   21794   24917     1\n",
       "608   바닷가작은부엌   700  15119400   604   21599   25032     1"
      ]
     },
     "execution_count": 279,
     "metadata": {},
     "output_type": "execute_result"
    }
   ],
   "source": [
    "# 전체\n",
    "df_groups[0].sort_values(by='집행금액', ascending=False).head(3)"
   ]
  },
  {
   "cell_type": "code",
   "execution_count": 280,
   "metadata": {},
   "outputs": [
    {
     "data": {
      "text/html": [
       "<div>\n",
       "<style scoped>\n",
       "    .dataframe tbody tr th:only-of-type {\n",
       "        vertical-align: middle;\n",
       "    }\n",
       "\n",
       "    .dataframe tbody tr th {\n",
       "        vertical-align: top;\n",
       "    }\n",
       "\n",
       "    .dataframe thead th {\n",
       "        text-align: right;\n",
       "    }\n",
       "</style>\n",
       "<table border=\"1\" class=\"dataframe\">\n",
       "  <thead>\n",
       "    <tr style=\"text-align: right;\">\n",
       "      <th></th>\n",
       "      <th>집행지명</th>\n",
       "      <th>cnt</th>\n",
       "      <th>집행금액</th>\n",
       "      <th>대상인원</th>\n",
       "      <th>회당집행금액</th>\n",
       "      <th>인당집행금액</th>\n",
       "      <th>회당명수</th>\n",
       "    </tr>\n",
       "  </thead>\n",
       "  <tbody>\n",
       "    <tr>\n",
       "      <th>88</th>\n",
       "      <td>몽중헌</td>\n",
       "      <td>168</td>\n",
       "      <td>5224000</td>\n",
       "      <td>150</td>\n",
       "      <td>31095</td>\n",
       "      <td>34827</td>\n",
       "      <td>1</td>\n",
       "    </tr>\n",
       "    <tr>\n",
       "      <th>51</th>\n",
       "      <td>달개비자연음식</td>\n",
       "      <td>143</td>\n",
       "      <td>4091700</td>\n",
       "      <td>128</td>\n",
       "      <td>28613</td>\n",
       "      <td>31966</td>\n",
       "      <td>1</td>\n",
       "    </tr>\n",
       "    <tr>\n",
       "      <th>139</th>\n",
       "      <td>식객촌</td>\n",
       "      <td>116</td>\n",
       "      <td>3592000</td>\n",
       "      <td>103</td>\n",
       "      <td>30966</td>\n",
       "      <td>34874</td>\n",
       "      <td>1</td>\n",
       "    </tr>\n",
       "  </tbody>\n",
       "</table>\n",
       "</div>"
      ],
      "text/plain": [
       "        집행지명  cnt     집행금액  대상인원  회당집행금액  인당집행금액  회당명수\n",
       "88       몽중헌  168  5224000   150   31095   34827     1\n",
       "51   달개비자연음식  143  4091700   128   28613   31966     1\n",
       "139      식객촌  116  3592000   103   30966   34874     1"
      ]
     },
     "execution_count": 280,
     "metadata": {},
     "output_type": "execute_result"
    }
   ],
   "source": [
    "# 2016년\n",
    "df_groups[1].sort_values(by='집행금액', ascending=False).head(3)"
   ]
  },
  {
   "cell_type": "code",
   "execution_count": 281,
   "metadata": {},
   "outputs": [
    {
     "data": {
      "text/html": [
       "<div>\n",
       "<style scoped>\n",
       "    .dataframe tbody tr th:only-of-type {\n",
       "        vertical-align: middle;\n",
       "    }\n",
       "\n",
       "    .dataframe tbody tr th {\n",
       "        vertical-align: top;\n",
       "    }\n",
       "\n",
       "    .dataframe thead th {\n",
       "        text-align: right;\n",
       "    }\n",
       "</style>\n",
       "<table border=\"1\" class=\"dataframe\">\n",
       "  <thead>\n",
       "    <tr style=\"text-align: right;\">\n",
       "      <th></th>\n",
       "      <th>집행지명</th>\n",
       "      <th>cnt</th>\n",
       "      <th>집행금액</th>\n",
       "      <th>대상인원</th>\n",
       "      <th>회당집행금액</th>\n",
       "      <th>인당집행금액</th>\n",
       "      <th>회당명수</th>\n",
       "    </tr>\n",
       "  </thead>\n",
       "  <tbody>\n",
       "    <tr>\n",
       "      <th>275</th>\n",
       "      <td>열빈</td>\n",
       "      <td>229</td>\n",
       "      <td>4696000</td>\n",
       "      <td>210</td>\n",
       "      <td>20507</td>\n",
       "      <td>22362</td>\n",
       "      <td>1</td>\n",
       "    </tr>\n",
       "    <tr>\n",
       "      <th>373</th>\n",
       "      <td>참숯골</td>\n",
       "      <td>237</td>\n",
       "      <td>3537700</td>\n",
       "      <td>204</td>\n",
       "      <td>14927</td>\n",
       "      <td>17342</td>\n",
       "      <td>1</td>\n",
       "    </tr>\n",
       "    <tr>\n",
       "      <th>107</th>\n",
       "      <td>동해수산</td>\n",
       "      <td>163</td>\n",
       "      <td>3256000</td>\n",
       "      <td>139</td>\n",
       "      <td>19975</td>\n",
       "      <td>23424</td>\n",
       "      <td>1</td>\n",
       "    </tr>\n",
       "  </tbody>\n",
       "</table>\n",
       "</div>"
      ],
      "text/plain": [
       "     집행지명  cnt     집행금액  대상인원  회당집행금액  인당집행금액  회당명수\n",
       "275    열빈  229  4696000   210   20507   22362     1\n",
       "373   참숯골  237  3537700   204   14927   17342     1\n",
       "107  동해수산  163  3256000   139   19975   23424     1"
      ]
     },
     "execution_count": 281,
     "metadata": {},
     "output_type": "execute_result"
    }
   ],
   "source": [
    "# 2017년\n",
    "df_groups[2].sort_values(by='집행금액', ascending=False).head(3)"
   ]
  },
  {
   "cell_type": "code",
   "execution_count": 282,
   "metadata": {},
   "outputs": [
    {
     "data": {
      "text/html": [
       "<div>\n",
       "<style scoped>\n",
       "    .dataframe tbody tr th:only-of-type {\n",
       "        vertical-align: middle;\n",
       "    }\n",
       "\n",
       "    .dataframe tbody tr th {\n",
       "        vertical-align: top;\n",
       "    }\n",
       "\n",
       "    .dataframe thead th {\n",
       "        text-align: right;\n",
       "    }\n",
       "</style>\n",
       "<table border=\"1\" class=\"dataframe\">\n",
       "  <thead>\n",
       "    <tr style=\"text-align: right;\">\n",
       "      <th></th>\n",
       "      <th>집행지명</th>\n",
       "      <th>cnt</th>\n",
       "      <th>집행금액</th>\n",
       "      <th>대상인원</th>\n",
       "      <th>회당집행금액</th>\n",
       "      <th>인당집행금액</th>\n",
       "      <th>회당명수</th>\n",
       "    </tr>\n",
       "  </thead>\n",
       "  <tbody>\n",
       "    <tr>\n",
       "      <th>147</th>\n",
       "      <td>만복림</td>\n",
       "      <td>303</td>\n",
       "      <td>7110800</td>\n",
       "      <td>274</td>\n",
       "      <td>23468</td>\n",
       "      <td>25952</td>\n",
       "      <td>1</td>\n",
       "    </tr>\n",
       "    <tr>\n",
       "      <th>181</th>\n",
       "      <td>바닷가작은부엌</td>\n",
       "      <td>290</td>\n",
       "      <td>6679000</td>\n",
       "      <td>248</td>\n",
       "      <td>23031</td>\n",
       "      <td>26931</td>\n",
       "      <td>1</td>\n",
       "    </tr>\n",
       "    <tr>\n",
       "      <th>122</th>\n",
       "      <td>동해일식</td>\n",
       "      <td>170</td>\n",
       "      <td>4075000</td>\n",
       "      <td>139</td>\n",
       "      <td>23971</td>\n",
       "      <td>29317</td>\n",
       "      <td>1</td>\n",
       "    </tr>\n",
       "  </tbody>\n",
       "</table>\n",
       "</div>"
      ],
      "text/plain": [
       "        집행지명  cnt     집행금액  대상인원  회당집행금액  인당집행금액  회당명수\n",
       "147      만복림  303  7110800   274   23468   25952     1\n",
       "181  바닷가작은부엌  290  6679000   248   23031   26931     1\n",
       "122     동해일식  170  4075000   139   23971   29317     1"
      ]
     },
     "execution_count": 282,
     "metadata": {},
     "output_type": "execute_result"
    }
   ],
   "source": [
    "# 2018년\n",
    "df_groups[3].sort_values(by='집행금액', ascending=False).head(3)"
   ]
  },
  {
   "cell_type": "code",
   "execution_count": 283,
   "metadata": {},
   "outputs": [
    {
     "data": {
      "text/html": [
       "<div>\n",
       "<style scoped>\n",
       "    .dataframe tbody tr th:only-of-type {\n",
       "        vertical-align: middle;\n",
       "    }\n",
       "\n",
       "    .dataframe tbody tr th {\n",
       "        vertical-align: top;\n",
       "    }\n",
       "\n",
       "    .dataframe thead th {\n",
       "        text-align: right;\n",
       "    }\n",
       "</style>\n",
       "<table border=\"1\" class=\"dataframe\">\n",
       "  <thead>\n",
       "    <tr style=\"text-align: right;\">\n",
       "      <th></th>\n",
       "      <th>집행지명</th>\n",
       "      <th>cnt</th>\n",
       "      <th>집행금액</th>\n",
       "      <th>대상인원</th>\n",
       "      <th>회당집행금액</th>\n",
       "      <th>인당집행금액</th>\n",
       "      <th>회당명수</th>\n",
       "    </tr>\n",
       "  </thead>\n",
       "  <tbody>\n",
       "    <tr>\n",
       "      <th>190</th>\n",
       "      <td>만복림</td>\n",
       "      <td>394</td>\n",
       "      <td>8233100</td>\n",
       "      <td>335</td>\n",
       "      <td>20896</td>\n",
       "      <td>24576</td>\n",
       "      <td>1</td>\n",
       "    </tr>\n",
       "    <tr>\n",
       "      <th>153</th>\n",
       "      <td>동원참치</td>\n",
       "      <td>373</td>\n",
       "      <td>8044000</td>\n",
       "      <td>320</td>\n",
       "      <td>21566</td>\n",
       "      <td>25138</td>\n",
       "      <td>1</td>\n",
       "    </tr>\n",
       "    <tr>\n",
       "      <th>468</th>\n",
       "      <td>초류향</td>\n",
       "      <td>363</td>\n",
       "      <td>7858500</td>\n",
       "      <td>312</td>\n",
       "      <td>21649</td>\n",
       "      <td>25188</td>\n",
       "      <td>1</td>\n",
       "    </tr>\n",
       "  </tbody>\n",
       "</table>\n",
       "</div>"
      ],
      "text/plain": [
       "     집행지명  cnt     집행금액  대상인원  회당집행금액  인당집행금액  회당명수\n",
       "190   만복림  394  8233100   335   20896   24576     1\n",
       "153  동원참치  373  8044000   320   21566   25138     1\n",
       "468   초류향  363  7858500   312   21649   25188     1"
      ]
     },
     "execution_count": 283,
     "metadata": {},
     "output_type": "execute_result"
    }
   ],
   "source": [
    "# 2019년\n",
    "df_groups[4].sort_values(by='집행금액', ascending=False).head(3)"
   ]
  },
  {
   "cell_type": "code",
   "execution_count": 284,
   "metadata": {},
   "outputs": [
    {
     "data": {
      "text/html": [
       "<div>\n",
       "<style scoped>\n",
       "    .dataframe tbody tr th:only-of-type {\n",
       "        vertical-align: middle;\n",
       "    }\n",
       "\n",
       "    .dataframe tbody tr th {\n",
       "        vertical-align: top;\n",
       "    }\n",
       "\n",
       "    .dataframe thead th {\n",
       "        text-align: right;\n",
       "    }\n",
       "</style>\n",
       "<table border=\"1\" class=\"dataframe\">\n",
       "  <thead>\n",
       "    <tr style=\"text-align: right;\">\n",
       "      <th></th>\n",
       "      <th>집행지명</th>\n",
       "      <th>cnt</th>\n",
       "      <th>집행금액</th>\n",
       "      <th>대상인원</th>\n",
       "      <th>회당집행금액</th>\n",
       "      <th>인당집행금액</th>\n",
       "      <th>회당명수</th>\n",
       "    </tr>\n",
       "  </thead>\n",
       "  <tbody>\n",
       "    <tr>\n",
       "      <th>197</th>\n",
       "      <td>배재반점</td>\n",
       "      <td>284</td>\n",
       "      <td>6331000</td>\n",
       "      <td>246</td>\n",
       "      <td>22292</td>\n",
       "      <td>25736</td>\n",
       "      <td>1</td>\n",
       "    </tr>\n",
       "    <tr>\n",
       "      <th>22</th>\n",
       "      <td>㈜바닷가작은부엌덕수궁점</td>\n",
       "      <td>297</td>\n",
       "      <td>5597000</td>\n",
       "      <td>259</td>\n",
       "      <td>18845</td>\n",
       "      <td>21610</td>\n",
       "      <td>1</td>\n",
       "    </tr>\n",
       "    <tr>\n",
       "      <th>117</th>\n",
       "      <td>동원VIP참치</td>\n",
       "      <td>217</td>\n",
       "      <td>5253000</td>\n",
       "      <td>185</td>\n",
       "      <td>24207</td>\n",
       "      <td>28395</td>\n",
       "      <td>1</td>\n",
       "    </tr>\n",
       "  </tbody>\n",
       "</table>\n",
       "</div>"
      ],
      "text/plain": [
       "             집행지명  cnt     집행금액  대상인원  회당집행금액  인당집행금액  회당명수\n",
       "197          배재반점  284  6331000   246   22292   25736     1\n",
       "22   ㈜바닷가작은부엌덕수궁점  297  5597000   259   18845   21610     1\n",
       "117       동원VIP참치  217  5253000   185   24207   28395     1"
      ]
     },
     "execution_count": 284,
     "metadata": {},
     "output_type": "execute_result"
    }
   ],
   "source": [
    "# 2020년\n",
    "df_groups[5].sort_values(by='집행금액', ascending=False).head(3)"
   ]
  },
  {
   "cell_type": "code",
   "execution_count": 285,
   "metadata": {},
   "outputs": [
    {
     "data": {
      "text/html": [
       "<div>\n",
       "<style scoped>\n",
       "    .dataframe tbody tr th:only-of-type {\n",
       "        vertical-align: middle;\n",
       "    }\n",
       "\n",
       "    .dataframe tbody tr th {\n",
       "        vertical-align: top;\n",
       "    }\n",
       "\n",
       "    .dataframe thead th {\n",
       "        text-align: right;\n",
       "    }\n",
       "</style>\n",
       "<table border=\"1\" class=\"dataframe\">\n",
       "  <thead>\n",
       "    <tr style=\"text-align: right;\">\n",
       "      <th></th>\n",
       "      <th>집행지명</th>\n",
       "      <th>cnt</th>\n",
       "      <th>집행금액</th>\n",
       "      <th>대상인원</th>\n",
       "      <th>회당집행금액</th>\n",
       "      <th>인당집행금액</th>\n",
       "      <th>회당명수</th>\n",
       "    </tr>\n",
       "  </thead>\n",
       "  <tbody>\n",
       "    <tr>\n",
       "      <th>6</th>\n",
       "      <td>㈜바닷가작은부엌덕수궁점</td>\n",
       "      <td>101</td>\n",
       "      <td>2590100</td>\n",
       "      <td>79</td>\n",
       "      <td>25645</td>\n",
       "      <td>32786</td>\n",
       "      <td>1</td>\n",
       "    </tr>\n",
       "    <tr>\n",
       "      <th>50</th>\n",
       "      <td>대복</td>\n",
       "      <td>95</td>\n",
       "      <td>1933000</td>\n",
       "      <td>73</td>\n",
       "      <td>20347</td>\n",
       "      <td>26479</td>\n",
       "      <td>1</td>\n",
       "    </tr>\n",
       "    <tr>\n",
       "      <th>62</th>\n",
       "      <td>동원VIP참치서소문점</td>\n",
       "      <td>85</td>\n",
       "      <td>1800000</td>\n",
       "      <td>63</td>\n",
       "      <td>21176</td>\n",
       "      <td>28571</td>\n",
       "      <td>1</td>\n",
       "    </tr>\n",
       "  </tbody>\n",
       "</table>\n",
       "</div>"
      ],
      "text/plain": [
       "            집행지명  cnt     집행금액  대상인원  회당집행금액  인당집행금액  회당명수\n",
       "6   ㈜바닷가작은부엌덕수궁점  101  2590100    79   25645   32786     1\n",
       "50            대복   95  1933000    73   20347   26479     1\n",
       "62   동원VIP참치서소문점   85  1800000    63   21176   28571     1"
      ]
     },
     "execution_count": 285,
     "metadata": {},
     "output_type": "execute_result"
    }
   ],
   "source": [
    "# 2021년도\n",
    "df_groups[6].sort_values(by='집행금액', ascending=False).head(3)"
   ]
  },
  {
   "cell_type": "markdown",
   "metadata": {},
   "source": [
    "### 3. 회당 집행금액이 가장 많은 식당\n",
    "(30회 이상 방문, 전체 공무원)"
   ]
  },
  {
   "cell_type": "code",
   "execution_count": 286,
   "metadata": {},
   "outputs": [],
   "source": [
    "for i, df_group in enumerate(df_groups):\n",
    "    df_groups[i] = df_group[df_group['cnt']>30]"
   ]
  },
  {
   "cell_type": "code",
   "execution_count": 287,
   "metadata": {},
   "outputs": [
    {
     "data": {
      "text/html": [
       "<div>\n",
       "<style scoped>\n",
       "    .dataframe tbody tr th:only-of-type {\n",
       "        vertical-align: middle;\n",
       "    }\n",
       "\n",
       "    .dataframe tbody tr th {\n",
       "        vertical-align: top;\n",
       "    }\n",
       "\n",
       "    .dataframe thead th {\n",
       "        text-align: right;\n",
       "    }\n",
       "</style>\n",
       "<table border=\"1\" class=\"dataframe\">\n",
       "  <thead>\n",
       "    <tr style=\"text-align: right;\">\n",
       "      <th></th>\n",
       "      <th>집행지명</th>\n",
       "      <th>cnt</th>\n",
       "      <th>집행금액</th>\n",
       "      <th>대상인원</th>\n",
       "      <th>회당집행금액</th>\n",
       "      <th>인당집행금액</th>\n",
       "      <th>회당명수</th>\n",
       "    </tr>\n",
       "  </thead>\n",
       "  <tbody>\n",
       "    <tr>\n",
       "      <th>234</th>\n",
       "      <td>김가네</td>\n",
       "      <td>32</td>\n",
       "      <td>1823000</td>\n",
       "      <td>26</td>\n",
       "      <td>56969</td>\n",
       "      <td>70115</td>\n",
       "      <td>1</td>\n",
       "    </tr>\n",
       "    <tr>\n",
       "      <th>313</th>\n",
       "      <td>능금산장</td>\n",
       "      <td>39</td>\n",
       "      <td>1875000</td>\n",
       "      <td>74</td>\n",
       "      <td>48077</td>\n",
       "      <td>25338</td>\n",
       "      <td>2</td>\n",
       "    </tr>\n",
       "    <tr>\n",
       "      <th>1456</th>\n",
       "      <td>통인가게</td>\n",
       "      <td>153</td>\n",
       "      <td>6800000</td>\n",
       "      <td>135</td>\n",
       "      <td>44444</td>\n",
       "      <td>50370</td>\n",
       "      <td>1</td>\n",
       "    </tr>\n",
       "  </tbody>\n",
       "</table>\n",
       "</div>"
      ],
      "text/plain": [
       "      집행지명  cnt     집행금액  대상인원  회당집행금액  인당집행금액  회당명수\n",
       "234    김가네   32  1823000    26   56969   70115     1\n",
       "313   능금산장   39  1875000    74   48077   25338     2\n",
       "1456  통인가게  153  6800000   135   44444   50370     1"
      ]
     },
     "execution_count": 287,
     "metadata": {},
     "output_type": "execute_result"
    }
   ],
   "source": [
    "# 전체\n",
    "df_groups[0].sort_values(by='회당집행금액', ascending=False).head(3)"
   ]
  },
  {
   "cell_type": "code",
   "execution_count": 288,
   "metadata": {},
   "outputs": [
    {
     "data": {
      "text/html": [
       "<div>\n",
       "<style scoped>\n",
       "    .dataframe tbody tr th:only-of-type {\n",
       "        vertical-align: middle;\n",
       "    }\n",
       "\n",
       "    .dataframe tbody tr th {\n",
       "        vertical-align: top;\n",
       "    }\n",
       "\n",
       "    .dataframe thead th {\n",
       "        text-align: right;\n",
       "    }\n",
       "</style>\n",
       "<table border=\"1\" class=\"dataframe\">\n",
       "  <thead>\n",
       "    <tr style=\"text-align: right;\">\n",
       "      <th></th>\n",
       "      <th>집행지명</th>\n",
       "      <th>cnt</th>\n",
       "      <th>집행금액</th>\n",
       "      <th>대상인원</th>\n",
       "      <th>회당집행금액</th>\n",
       "      <th>인당집행금액</th>\n",
       "      <th>회당명수</th>\n",
       "    </tr>\n",
       "  </thead>\n",
       "  <tbody>\n",
       "    <tr>\n",
       "      <th>226</th>\n",
       "      <td>통인가게</td>\n",
       "      <td>43</td>\n",
       "      <td>1950000</td>\n",
       "      <td>39</td>\n",
       "      <td>45349</td>\n",
       "      <td>50000</td>\n",
       "      <td>1</td>\n",
       "    </tr>\n",
       "    <tr>\n",
       "      <th>202</th>\n",
       "      <td>지화자</td>\n",
       "      <td>32</td>\n",
       "      <td>1132000</td>\n",
       "      <td>29</td>\n",
       "      <td>35375</td>\n",
       "      <td>39034</td>\n",
       "      <td>1</td>\n",
       "    </tr>\n",
       "    <tr>\n",
       "      <th>228</th>\n",
       "      <td>파로</td>\n",
       "      <td>51</td>\n",
       "      <td>1777200</td>\n",
       "      <td>46</td>\n",
       "      <td>34847</td>\n",
       "      <td>38635</td>\n",
       "      <td>1</td>\n",
       "    </tr>\n",
       "  </tbody>\n",
       "</table>\n",
       "</div>"
      ],
      "text/plain": [
       "     집행지명  cnt     집행금액  대상인원  회당집행금액  인당집행금액  회당명수\n",
       "226  통인가게   43  1950000    39   45349   50000     1\n",
       "202   지화자   32  1132000    29   35375   39034     1\n",
       "228    파로   51  1777200    46   34847   38635     1"
      ]
     },
     "execution_count": 288,
     "metadata": {},
     "output_type": "execute_result"
    }
   ],
   "source": [
    "# 2016년\n",
    "df_groups[1].sort_values(by='회당집행금액', ascending=False).head(3)"
   ]
  },
  {
   "cell_type": "code",
   "execution_count": 289,
   "metadata": {},
   "outputs": [
    {
     "data": {
      "text/html": [
       "<div>\n",
       "<style scoped>\n",
       "    .dataframe tbody tr th:only-of-type {\n",
       "        vertical-align: middle;\n",
       "    }\n",
       "\n",
       "    .dataframe tbody tr th {\n",
       "        vertical-align: top;\n",
       "    }\n",
       "\n",
       "    .dataframe thead th {\n",
       "        text-align: right;\n",
       "    }\n",
       "</style>\n",
       "<table border=\"1\" class=\"dataframe\">\n",
       "  <thead>\n",
       "    <tr style=\"text-align: right;\">\n",
       "      <th></th>\n",
       "      <th>집행지명</th>\n",
       "      <th>cnt</th>\n",
       "      <th>집행금액</th>\n",
       "      <th>대상인원</th>\n",
       "      <th>회당집행금액</th>\n",
       "      <th>인당집행금액</th>\n",
       "      <th>회당명수</th>\n",
       "    </tr>\n",
       "  </thead>\n",
       "  <tbody>\n",
       "    <tr>\n",
       "      <th>412</th>\n",
       "      <td>통인가게</td>\n",
       "      <td>60</td>\n",
       "      <td>2650000</td>\n",
       "      <td>53</td>\n",
       "      <td>44167</td>\n",
       "      <td>50000</td>\n",
       "      <td>1</td>\n",
       "    </tr>\n",
       "    <tr>\n",
       "      <th>11</th>\n",
       "      <td>YORI</td>\n",
       "      <td>43</td>\n",
       "      <td>1588480</td>\n",
       "      <td>42</td>\n",
       "      <td>36941</td>\n",
       "      <td>37821</td>\n",
       "      <td>1</td>\n",
       "    </tr>\n",
       "    <tr>\n",
       "      <th>37</th>\n",
       "      <td>광화문양갈비</td>\n",
       "      <td>39</td>\n",
       "      <td>1239400</td>\n",
       "      <td>44</td>\n",
       "      <td>31779</td>\n",
       "      <td>28168</td>\n",
       "      <td>1</td>\n",
       "    </tr>\n",
       "  </tbody>\n",
       "</table>\n",
       "</div>"
      ],
      "text/plain": [
       "       집행지명  cnt     집행금액  대상인원  회당집행금액  인당집행금액  회당명수\n",
       "412    통인가게   60  2650000    53   44167   50000     1\n",
       "11     YORI   43  1588480    42   36941   37821     1\n",
       "37   광화문양갈비   39  1239400    44   31779   28168     1"
      ]
     },
     "execution_count": 289,
     "metadata": {},
     "output_type": "execute_result"
    }
   ],
   "source": [
    "# 2017년 \n",
    "df_groups[2].sort_values(by='회당집행금액', ascending=False).head(3)"
   ]
  },
  {
   "cell_type": "code",
   "execution_count": 290,
   "metadata": {},
   "outputs": [
    {
     "data": {
      "text/html": [
       "<div>\n",
       "<style scoped>\n",
       "    .dataframe tbody tr th:only-of-type {\n",
       "        vertical-align: middle;\n",
       "    }\n",
       "\n",
       "    .dataframe tbody tr th {\n",
       "        vertical-align: top;\n",
       "    }\n",
       "\n",
       "    .dataframe thead th {\n",
       "        text-align: right;\n",
       "    }\n",
       "</style>\n",
       "<table border=\"1\" class=\"dataframe\">\n",
       "  <thead>\n",
       "    <tr style=\"text-align: right;\">\n",
       "      <th></th>\n",
       "      <th>집행지명</th>\n",
       "      <th>cnt</th>\n",
       "      <th>집행금액</th>\n",
       "      <th>대상인원</th>\n",
       "      <th>회당집행금액</th>\n",
       "      <th>인당집행금액</th>\n",
       "      <th>회당명수</th>\n",
       "    </tr>\n",
       "  </thead>\n",
       "  <tbody>\n",
       "    <tr>\n",
       "      <th>366</th>\n",
       "      <td>장호왕곱창</td>\n",
       "      <td>60</td>\n",
       "      <td>2222500</td>\n",
       "      <td>51</td>\n",
       "      <td>37042</td>\n",
       "      <td>43578</td>\n",
       "      <td>1</td>\n",
       "    </tr>\n",
       "    <tr>\n",
       "      <th>195</th>\n",
       "      <td>베르가모</td>\n",
       "      <td>99</td>\n",
       "      <td>2952000</td>\n",
       "      <td>98</td>\n",
       "      <td>29818</td>\n",
       "      <td>30122</td>\n",
       "      <td>1</td>\n",
       "    </tr>\n",
       "    <tr>\n",
       "      <th>497</th>\n",
       "      <td>ＡＷ　컨벤션센터</td>\n",
       "      <td>55</td>\n",
       "      <td>1635000</td>\n",
       "      <td>54</td>\n",
       "      <td>29727</td>\n",
       "      <td>30278</td>\n",
       "      <td>1</td>\n",
       "    </tr>\n",
       "  </tbody>\n",
       "</table>\n",
       "</div>"
      ],
      "text/plain": [
       "         집행지명  cnt     집행금액  대상인원  회당집행금액  인당집행금액  회당명수\n",
       "366     장호왕곱창   60  2222500    51   37042   43578     1\n",
       "195      베르가모   99  2952000    98   29818   30122     1\n",
       "497  ＡＷ　컨벤션센터   55  1635000    54   29727   30278     1"
      ]
     },
     "execution_count": 290,
     "metadata": {},
     "output_type": "execute_result"
    }
   ],
   "source": [
    "# 2018년\n",
    "df_groups[3].sort_values(by='회당집행금액', ascending=False).head(3)"
   ]
  },
  {
   "cell_type": "code",
   "execution_count": 291,
   "metadata": {},
   "outputs": [
    {
     "data": {
      "text/html": [
       "<div>\n",
       "<style scoped>\n",
       "    .dataframe tbody tr th:only-of-type {\n",
       "        vertical-align: middle;\n",
       "    }\n",
       "\n",
       "    .dataframe tbody tr th {\n",
       "        vertical-align: top;\n",
       "    }\n",
       "\n",
       "    .dataframe thead th {\n",
       "        text-align: right;\n",
       "    }\n",
       "</style>\n",
       "<table border=\"1\" class=\"dataframe\">\n",
       "  <thead>\n",
       "    <tr style=\"text-align: right;\">\n",
       "      <th></th>\n",
       "      <th>집행지명</th>\n",
       "      <th>cnt</th>\n",
       "      <th>집행금액</th>\n",
       "      <th>대상인원</th>\n",
       "      <th>회당집행금액</th>\n",
       "      <th>인당집행금액</th>\n",
       "      <th>회당명수</th>\n",
       "    </tr>\n",
       "  </thead>\n",
       "  <tbody>\n",
       "    <tr>\n",
       "      <th>493</th>\n",
       "      <td>통인가게</td>\n",
       "      <td>32</td>\n",
       "      <td>1400000</td>\n",
       "      <td>28</td>\n",
       "      <td>43750</td>\n",
       "      <td>50000</td>\n",
       "      <td>1</td>\n",
       "    </tr>\n",
       "    <tr>\n",
       "      <th>452</th>\n",
       "      <td>차원</td>\n",
       "      <td>32</td>\n",
       "      <td>950000</td>\n",
       "      <td>30</td>\n",
       "      <td>29688</td>\n",
       "      <td>31667</td>\n",
       "      <td>1</td>\n",
       "    </tr>\n",
       "    <tr>\n",
       "      <th>530</th>\n",
       "      <td>향연</td>\n",
       "      <td>31</td>\n",
       "      <td>877900</td>\n",
       "      <td>28</td>\n",
       "      <td>28319</td>\n",
       "      <td>31354</td>\n",
       "      <td>1</td>\n",
       "    </tr>\n",
       "  </tbody>\n",
       "</table>\n",
       "</div>"
      ],
      "text/plain": [
       "     집행지명  cnt     집행금액  대상인원  회당집행금액  인당집행금액  회당명수\n",
       "493  통인가게   32  1400000    28   43750   50000     1\n",
       "452    차원   32   950000    30   29688   31667     1\n",
       "530    향연   31   877900    28   28319   31354     1"
      ]
     },
     "execution_count": 291,
     "metadata": {},
     "output_type": "execute_result"
    }
   ],
   "source": [
    "# 2019년\n",
    "df_groups[4].sort_values(by='회당집행금액', ascending=False).head(3)"
   ]
  },
  {
   "cell_type": "code",
   "execution_count": 292,
   "metadata": {},
   "outputs": [
    {
     "data": {
      "text/html": [
       "<div>\n",
       "<style scoped>\n",
       "    .dataframe tbody tr th:only-of-type {\n",
       "        vertical-align: middle;\n",
       "    }\n",
       "\n",
       "    .dataframe tbody tr th {\n",
       "        vertical-align: top;\n",
       "    }\n",
       "\n",
       "    .dataframe thead th {\n",
       "        text-align: right;\n",
       "    }\n",
       "</style>\n",
       "<table border=\"1\" class=\"dataframe\">\n",
       "  <thead>\n",
       "    <tr style=\"text-align: right;\">\n",
       "      <th></th>\n",
       "      <th>집행지명</th>\n",
       "      <th>cnt</th>\n",
       "      <th>집행금액</th>\n",
       "      <th>대상인원</th>\n",
       "      <th>회당집행금액</th>\n",
       "      <th>인당집행금액</th>\n",
       "      <th>회당명수</th>\n",
       "    </tr>\n",
       "  </thead>\n",
       "  <tbody>\n",
       "    <tr>\n",
       "      <th>10</th>\n",
       "      <td>(주)태맥을지점</td>\n",
       "      <td>59</td>\n",
       "      <td>1666900</td>\n",
       "      <td>57</td>\n",
       "      <td>28253</td>\n",
       "      <td>29244</td>\n",
       "      <td>1</td>\n",
       "    </tr>\n",
       "    <tr>\n",
       "      <th>83</th>\n",
       "      <td>남원식당</td>\n",
       "      <td>75</td>\n",
       "      <td>2067000</td>\n",
       "      <td>69</td>\n",
       "      <td>27560</td>\n",
       "      <td>29957</td>\n",
       "      <td>1</td>\n",
       "    </tr>\n",
       "    <tr>\n",
       "      <th>426</th>\n",
       "      <td>차이797</td>\n",
       "      <td>86</td>\n",
       "      <td>2346500</td>\n",
       "      <td>78</td>\n",
       "      <td>27285</td>\n",
       "      <td>30083</td>\n",
       "      <td>1</td>\n",
       "    </tr>\n",
       "  </tbody>\n",
       "</table>\n",
       "</div>"
      ],
      "text/plain": [
       "         집행지명  cnt     집행금액  대상인원  회당집행금액  인당집행금액  회당명수\n",
       "10   (주)태맥을지점   59  1666900    57   28253   29244     1\n",
       "83       남원식당   75  2067000    69   27560   29957     1\n",
       "426     차이797   86  2346500    78   27285   30083     1"
      ]
     },
     "execution_count": 292,
     "metadata": {},
     "output_type": "execute_result"
    }
   ],
   "source": [
    "# 2020년\n",
    "df_groups[5].sort_values(by='회당집행금액', ascending=False).head(3)"
   ]
  },
  {
   "cell_type": "code",
   "execution_count": 293,
   "metadata": {},
   "outputs": [
    {
     "data": {
      "text/html": [
       "<div>\n",
       "<style scoped>\n",
       "    .dataframe tbody tr th:only-of-type {\n",
       "        vertical-align: middle;\n",
       "    }\n",
       "\n",
       "    .dataframe tbody tr th {\n",
       "        vertical-align: top;\n",
       "    }\n",
       "\n",
       "    .dataframe thead th {\n",
       "        text-align: right;\n",
       "    }\n",
       "</style>\n",
       "<table border=\"1\" class=\"dataframe\">\n",
       "  <thead>\n",
       "    <tr style=\"text-align: right;\">\n",
       "      <th></th>\n",
       "      <th>집행지명</th>\n",
       "      <th>cnt</th>\n",
       "      <th>집행금액</th>\n",
       "      <th>대상인원</th>\n",
       "      <th>회당집행금액</th>\n",
       "      <th>인당집행금액</th>\n",
       "      <th>회당명수</th>\n",
       "    </tr>\n",
       "  </thead>\n",
       "  <tbody>\n",
       "    <tr>\n",
       "      <th>250</th>\n",
       "      <td>초류향</td>\n",
       "      <td>31</td>\n",
       "      <td>842000</td>\n",
       "      <td>23</td>\n",
       "      <td>27161</td>\n",
       "      <td>36609</td>\n",
       "      <td>1</td>\n",
       "    </tr>\n",
       "    <tr>\n",
       "      <th>120</th>\n",
       "      <td>북창갈비</td>\n",
       "      <td>32</td>\n",
       "      <td>858000</td>\n",
       "      <td>24</td>\n",
       "      <td>26812</td>\n",
       "      <td>35750</td>\n",
       "      <td>1</td>\n",
       "    </tr>\n",
       "    <tr>\n",
       "      <th>6</th>\n",
       "      <td>㈜바닷가작은부엌덕수궁점</td>\n",
       "      <td>101</td>\n",
       "      <td>2590100</td>\n",
       "      <td>79</td>\n",
       "      <td>25645</td>\n",
       "      <td>32786</td>\n",
       "      <td>1</td>\n",
       "    </tr>\n",
       "  </tbody>\n",
       "</table>\n",
       "</div>"
      ],
      "text/plain": [
       "             집행지명  cnt     집행금액  대상인원  회당집행금액  인당집행금액  회당명수\n",
       "250           초류향   31   842000    23   27161   36609     1\n",
       "120          북창갈비   32   858000    24   26812   35750     1\n",
       "6    ㈜바닷가작은부엌덕수궁점  101  2590100    79   25645   32786     1"
      ]
     },
     "execution_count": 293,
     "metadata": {},
     "output_type": "execute_result"
    }
   ],
   "source": [
    "# 2021년\n",
    "df_groups[6].sort_values(by='회당집행금액', ascending=False).head(3)"
   ]
  },
  {
   "cell_type": "code",
   "execution_count": null,
   "metadata": {},
   "outputs": [],
   "source": []
  },
  {
   "cell_type": "markdown",
   "metadata": {},
   "source": [
    "### 4. 인당 집행금액이 가장 많은 식당"
   ]
  },
  {
   "cell_type": "code",
   "execution_count": 294,
   "metadata": {},
   "outputs": [
    {
     "data": {
      "text/html": [
       "<div>\n",
       "<style scoped>\n",
       "    .dataframe tbody tr th:only-of-type {\n",
       "        vertical-align: middle;\n",
       "    }\n",
       "\n",
       "    .dataframe tbody tr th {\n",
       "        vertical-align: top;\n",
       "    }\n",
       "\n",
       "    .dataframe thead th {\n",
       "        text-align: right;\n",
       "    }\n",
       "</style>\n",
       "<table border=\"1\" class=\"dataframe\">\n",
       "  <thead>\n",
       "    <tr style=\"text-align: right;\">\n",
       "      <th></th>\n",
       "      <th>집행지명</th>\n",
       "      <th>cnt</th>\n",
       "      <th>집행금액</th>\n",
       "      <th>대상인원</th>\n",
       "      <th>회당집행금액</th>\n",
       "      <th>인당집행금액</th>\n",
       "      <th>회당명수</th>\n",
       "    </tr>\n",
       "  </thead>\n",
       "  <tbody>\n",
       "    <tr>\n",
       "      <th>234</th>\n",
       "      <td>김가네</td>\n",
       "      <td>32</td>\n",
       "      <td>1823000</td>\n",
       "      <td>26</td>\n",
       "      <td>56969</td>\n",
       "      <td>70115</td>\n",
       "      <td>1</td>\n",
       "    </tr>\n",
       "    <tr>\n",
       "      <th>1456</th>\n",
       "      <td>통인가게</td>\n",
       "      <td>153</td>\n",
       "      <td>6800000</td>\n",
       "      <td>135</td>\n",
       "      <td>44444</td>\n",
       "      <td>50370</td>\n",
       "      <td>1</td>\n",
       "    </tr>\n",
       "    <tr>\n",
       "      <th>1296</th>\n",
       "      <td>지화자</td>\n",
       "      <td>32</td>\n",
       "      <td>1132000</td>\n",
       "      <td>29</td>\n",
       "      <td>35375</td>\n",
       "      <td>39034</td>\n",
       "      <td>1</td>\n",
       "    </tr>\n",
       "  </tbody>\n",
       "</table>\n",
       "</div>"
      ],
      "text/plain": [
       "      집행지명  cnt     집행금액  대상인원  회당집행금액  인당집행금액  회당명수\n",
       "234    김가네   32  1823000    26   56969   70115     1\n",
       "1456  통인가게  153  6800000   135   44444   50370     1\n",
       "1296   지화자   32  1132000    29   35375   39034     1"
      ]
     },
     "execution_count": 294,
     "metadata": {},
     "output_type": "execute_result"
    }
   ],
   "source": [
    "# 전체\n",
    "df_groups[0].sort_values(by='인당집행금액', ascending=False).head(3)"
   ]
  },
  {
   "cell_type": "code",
   "execution_count": 295,
   "metadata": {},
   "outputs": [
    {
     "data": {
      "text/html": [
       "<div>\n",
       "<style scoped>\n",
       "    .dataframe tbody tr th:only-of-type {\n",
       "        vertical-align: middle;\n",
       "    }\n",
       "\n",
       "    .dataframe tbody tr th {\n",
       "        vertical-align: top;\n",
       "    }\n",
       "\n",
       "    .dataframe thead th {\n",
       "        text-align: right;\n",
       "    }\n",
       "</style>\n",
       "<table border=\"1\" class=\"dataframe\">\n",
       "  <thead>\n",
       "    <tr style=\"text-align: right;\">\n",
       "      <th></th>\n",
       "      <th>집행지명</th>\n",
       "      <th>cnt</th>\n",
       "      <th>집행금액</th>\n",
       "      <th>대상인원</th>\n",
       "      <th>회당집행금액</th>\n",
       "      <th>인당집행금액</th>\n",
       "      <th>회당명수</th>\n",
       "    </tr>\n",
       "  </thead>\n",
       "  <tbody>\n",
       "    <tr>\n",
       "      <th>226</th>\n",
       "      <td>통인가게</td>\n",
       "      <td>43</td>\n",
       "      <td>1950000</td>\n",
       "      <td>39</td>\n",
       "      <td>45349</td>\n",
       "      <td>50000</td>\n",
       "      <td>1</td>\n",
       "    </tr>\n",
       "    <tr>\n",
       "      <th>202</th>\n",
       "      <td>지화자</td>\n",
       "      <td>32</td>\n",
       "      <td>1132000</td>\n",
       "      <td>29</td>\n",
       "      <td>35375</td>\n",
       "      <td>39034</td>\n",
       "      <td>1</td>\n",
       "    </tr>\n",
       "    <tr>\n",
       "      <th>228</th>\n",
       "      <td>파로</td>\n",
       "      <td>51</td>\n",
       "      <td>1777200</td>\n",
       "      <td>46</td>\n",
       "      <td>34847</td>\n",
       "      <td>38635</td>\n",
       "      <td>1</td>\n",
       "    </tr>\n",
       "  </tbody>\n",
       "</table>\n",
       "</div>"
      ],
      "text/plain": [
       "     집행지명  cnt     집행금액  대상인원  회당집행금액  인당집행금액  회당명수\n",
       "226  통인가게   43  1950000    39   45349   50000     1\n",
       "202   지화자   32  1132000    29   35375   39034     1\n",
       "228    파로   51  1777200    46   34847   38635     1"
      ]
     },
     "execution_count": 295,
     "metadata": {},
     "output_type": "execute_result"
    }
   ],
   "source": [
    "# 2016\n",
    "# 김영란법 생기기 전인가? 3만원이 넘는다. \n",
    "df_groups[1].sort_values(by='인당집행금액', ascending=False).head(3)"
   ]
  },
  {
   "cell_type": "code",
   "execution_count": 296,
   "metadata": {},
   "outputs": [
    {
     "data": {
      "text/html": [
       "<div>\n",
       "<style scoped>\n",
       "    .dataframe tbody tr th:only-of-type {\n",
       "        vertical-align: middle;\n",
       "    }\n",
       "\n",
       "    .dataframe tbody tr th {\n",
       "        vertical-align: top;\n",
       "    }\n",
       "\n",
       "    .dataframe thead th {\n",
       "        text-align: right;\n",
       "    }\n",
       "</style>\n",
       "<table border=\"1\" class=\"dataframe\">\n",
       "  <thead>\n",
       "    <tr style=\"text-align: right;\">\n",
       "      <th></th>\n",
       "      <th>집행지명</th>\n",
       "      <th>cnt</th>\n",
       "      <th>집행금액</th>\n",
       "      <th>대상인원</th>\n",
       "      <th>회당집행금액</th>\n",
       "      <th>인당집행금액</th>\n",
       "      <th>회당명수</th>\n",
       "    </tr>\n",
       "  </thead>\n",
       "  <tbody>\n",
       "    <tr>\n",
       "      <th>412</th>\n",
       "      <td>통인가게</td>\n",
       "      <td>60</td>\n",
       "      <td>2650000</td>\n",
       "      <td>53</td>\n",
       "      <td>44167</td>\n",
       "      <td>50000</td>\n",
       "      <td>1</td>\n",
       "    </tr>\n",
       "    <tr>\n",
       "      <th>11</th>\n",
       "      <td>YORI</td>\n",
       "      <td>43</td>\n",
       "      <td>1588480</td>\n",
       "      <td>42</td>\n",
       "      <td>36941</td>\n",
       "      <td>37821</td>\n",
       "      <td>1</td>\n",
       "    </tr>\n",
       "    <tr>\n",
       "      <th>7</th>\n",
       "      <td>HITEMOSKVA</td>\n",
       "      <td>48</td>\n",
       "      <td>1504980</td>\n",
       "      <td>47</td>\n",
       "      <td>31354</td>\n",
       "      <td>32021</td>\n",
       "      <td>1</td>\n",
       "    </tr>\n",
       "  </tbody>\n",
       "</table>\n",
       "</div>"
      ],
      "text/plain": [
       "           집행지명  cnt     집행금액  대상인원  회당집행금액  인당집행금액  회당명수\n",
       "412        통인가게   60  2650000    53   44167   50000     1\n",
       "11         YORI   43  1588480    42   36941   37821     1\n",
       "7    HITEMOSKVA   48  1504980    47   31354   32021     1"
      ]
     },
     "execution_count": 296,
     "metadata": {},
     "output_type": "execute_result"
    }
   ],
   "source": [
    "# 2017\n",
    "df_groups[2].sort_values(by='인당집행금액', ascending=False).head(3)"
   ]
  },
  {
   "cell_type": "code",
   "execution_count": 297,
   "metadata": {},
   "outputs": [
    {
     "data": {
      "text/html": [
       "<div>\n",
       "<style scoped>\n",
       "    .dataframe tbody tr th:only-of-type {\n",
       "        vertical-align: middle;\n",
       "    }\n",
       "\n",
       "    .dataframe tbody tr th {\n",
       "        vertical-align: top;\n",
       "    }\n",
       "\n",
       "    .dataframe thead th {\n",
       "        text-align: right;\n",
       "    }\n",
       "</style>\n",
       "<table border=\"1\" class=\"dataframe\">\n",
       "  <thead>\n",
       "    <tr style=\"text-align: right;\">\n",
       "      <th></th>\n",
       "      <th>집행지명</th>\n",
       "      <th>cnt</th>\n",
       "      <th>집행금액</th>\n",
       "      <th>대상인원</th>\n",
       "      <th>회당집행금액</th>\n",
       "      <th>인당집행금액</th>\n",
       "      <th>회당명수</th>\n",
       "    </tr>\n",
       "  </thead>\n",
       "  <tbody>\n",
       "    <tr>\n",
       "      <th>366</th>\n",
       "      <td>장호왕곱창</td>\n",
       "      <td>60</td>\n",
       "      <td>2222500</td>\n",
       "      <td>51</td>\n",
       "      <td>37042</td>\n",
       "      <td>43578</td>\n",
       "      <td>1</td>\n",
       "    </tr>\n",
       "    <tr>\n",
       "      <th>483</th>\n",
       "      <td>（주）달개비자연음식</td>\n",
       "      <td>116</td>\n",
       "      <td>3013000</td>\n",
       "      <td>99</td>\n",
       "      <td>25974</td>\n",
       "      <td>30434</td>\n",
       "      <td>1</td>\n",
       "    </tr>\n",
       "    <tr>\n",
       "      <th>64</th>\n",
       "      <td>남산집</td>\n",
       "      <td>49</td>\n",
       "      <td>1185000</td>\n",
       "      <td>39</td>\n",
       "      <td>24184</td>\n",
       "      <td>30385</td>\n",
       "      <td>1</td>\n",
       "    </tr>\n",
       "  </tbody>\n",
       "</table>\n",
       "</div>"
      ],
      "text/plain": [
       "           집행지명  cnt     집행금액  대상인원  회당집행금액  인당집행금액  회당명수\n",
       "366       장호왕곱창   60  2222500    51   37042   43578     1\n",
       "483  （주）달개비자연음식  116  3013000    99   25974   30434     1\n",
       "64          남산집   49  1185000    39   24184   30385     1"
      ]
     },
     "execution_count": 297,
     "metadata": {},
     "output_type": "execute_result"
    }
   ],
   "source": [
    "# 2018\n",
    "df_groups[3].sort_values(by='인당집행금액', ascending=False).head(3)"
   ]
  },
  {
   "cell_type": "code",
   "execution_count": 298,
   "metadata": {},
   "outputs": [
    {
     "data": {
      "text/html": [
       "<div>\n",
       "<style scoped>\n",
       "    .dataframe tbody tr th:only-of-type {\n",
       "        vertical-align: middle;\n",
       "    }\n",
       "\n",
       "    .dataframe tbody tr th {\n",
       "        vertical-align: top;\n",
       "    }\n",
       "\n",
       "    .dataframe thead th {\n",
       "        text-align: right;\n",
       "    }\n",
       "</style>\n",
       "<table border=\"1\" class=\"dataframe\">\n",
       "  <thead>\n",
       "    <tr style=\"text-align: right;\">\n",
       "      <th></th>\n",
       "      <th>집행지명</th>\n",
       "      <th>cnt</th>\n",
       "      <th>집행금액</th>\n",
       "      <th>대상인원</th>\n",
       "      <th>회당집행금액</th>\n",
       "      <th>인당집행금액</th>\n",
       "      <th>회당명수</th>\n",
       "    </tr>\n",
       "  </thead>\n",
       "  <tbody>\n",
       "    <tr>\n",
       "      <th>493</th>\n",
       "      <td>통인가게</td>\n",
       "      <td>32</td>\n",
       "      <td>1400000</td>\n",
       "      <td>28</td>\n",
       "      <td>43750</td>\n",
       "      <td>50000</td>\n",
       "      <td>1</td>\n",
       "    </tr>\n",
       "    <tr>\n",
       "      <th>452</th>\n",
       "      <td>차원</td>\n",
       "      <td>32</td>\n",
       "      <td>950000</td>\n",
       "      <td>30</td>\n",
       "      <td>29688</td>\n",
       "      <td>31667</td>\n",
       "      <td>1</td>\n",
       "    </tr>\n",
       "    <tr>\n",
       "      <th>530</th>\n",
       "      <td>향연</td>\n",
       "      <td>31</td>\n",
       "      <td>877900</td>\n",
       "      <td>28</td>\n",
       "      <td>28319</td>\n",
       "      <td>31354</td>\n",
       "      <td>1</td>\n",
       "    </tr>\n",
       "  </tbody>\n",
       "</table>\n",
       "</div>"
      ],
      "text/plain": [
       "     집행지명  cnt     집행금액  대상인원  회당집행금액  인당집행금액  회당명수\n",
       "493  통인가게   32  1400000    28   43750   50000     1\n",
       "452    차원   32   950000    30   29688   31667     1\n",
       "530    향연   31   877900    28   28319   31354     1"
      ]
     },
     "execution_count": 298,
     "metadata": {},
     "output_type": "execute_result"
    }
   ],
   "source": [
    "# 2019\n",
    "df_groups[4].sort_values(by='인당집행금액', ascending=False).head(3)"
   ]
  },
  {
   "cell_type": "code",
   "execution_count": 299,
   "metadata": {},
   "outputs": [
    {
     "data": {
      "text/html": [
       "<div>\n",
       "<style scoped>\n",
       "    .dataframe tbody tr th:only-of-type {\n",
       "        vertical-align: middle;\n",
       "    }\n",
       "\n",
       "    .dataframe tbody tr th {\n",
       "        vertical-align: top;\n",
       "    }\n",
       "\n",
       "    .dataframe thead th {\n",
       "        text-align: right;\n",
       "    }\n",
       "</style>\n",
       "<table border=\"1\" class=\"dataframe\">\n",
       "  <thead>\n",
       "    <tr style=\"text-align: right;\">\n",
       "      <th></th>\n",
       "      <th>집행지명</th>\n",
       "      <th>cnt</th>\n",
       "      <th>집행금액</th>\n",
       "      <th>대상인원</th>\n",
       "      <th>회당집행금액</th>\n",
       "      <th>인당집행금액</th>\n",
       "      <th>회당명수</th>\n",
       "    </tr>\n",
       "  </thead>\n",
       "  <tbody>\n",
       "    <tr>\n",
       "      <th>341</th>\n",
       "      <td>오륙도</td>\n",
       "      <td>43</td>\n",
       "      <td>1104000</td>\n",
       "      <td>36</td>\n",
       "      <td>25674</td>\n",
       "      <td>30667</td>\n",
       "      <td>1</td>\n",
       "    </tr>\n",
       "    <tr>\n",
       "      <th>440</th>\n",
       "      <td>철철복집</td>\n",
       "      <td>40</td>\n",
       "      <td>972000</td>\n",
       "      <td>32</td>\n",
       "      <td>24300</td>\n",
       "      <td>30375</td>\n",
       "      <td>1</td>\n",
       "    </tr>\n",
       "    <tr>\n",
       "      <th>426</th>\n",
       "      <td>차이797</td>\n",
       "      <td>86</td>\n",
       "      <td>2346500</td>\n",
       "      <td>78</td>\n",
       "      <td>27285</td>\n",
       "      <td>30083</td>\n",
       "      <td>1</td>\n",
       "    </tr>\n",
       "  </tbody>\n",
       "</table>\n",
       "</div>"
      ],
      "text/plain": [
       "      집행지명  cnt     집행금액  대상인원  회당집행금액  인당집행금액  회당명수\n",
       "341    오륙도   43  1104000    36   25674   30667     1\n",
       "440   철철복집   40   972000    32   24300   30375     1\n",
       "426  차이797   86  2346500    78   27285   30083     1"
      ]
     },
     "execution_count": 299,
     "metadata": {},
     "output_type": "execute_result"
    }
   ],
   "source": [
    "# 2020\n",
    "df_groups[5].sort_values(by='인당집행금액', ascending=False).head(3)"
   ]
  },
  {
   "cell_type": "code",
   "execution_count": 300,
   "metadata": {},
   "outputs": [
    {
     "data": {
      "text/html": [
       "<div>\n",
       "<style scoped>\n",
       "    .dataframe tbody tr th:only-of-type {\n",
       "        vertical-align: middle;\n",
       "    }\n",
       "\n",
       "    .dataframe tbody tr th {\n",
       "        vertical-align: top;\n",
       "    }\n",
       "\n",
       "    .dataframe thead th {\n",
       "        text-align: right;\n",
       "    }\n",
       "</style>\n",
       "<table border=\"1\" class=\"dataframe\">\n",
       "  <thead>\n",
       "    <tr style=\"text-align: right;\">\n",
       "      <th></th>\n",
       "      <th>집행지명</th>\n",
       "      <th>cnt</th>\n",
       "      <th>집행금액</th>\n",
       "      <th>대상인원</th>\n",
       "      <th>회당집행금액</th>\n",
       "      <th>인당집행금액</th>\n",
       "      <th>회당명수</th>\n",
       "    </tr>\n",
       "  </thead>\n",
       "  <tbody>\n",
       "    <tr>\n",
       "      <th>250</th>\n",
       "      <td>초류향</td>\n",
       "      <td>31</td>\n",
       "      <td>842000</td>\n",
       "      <td>23</td>\n",
       "      <td>27161</td>\n",
       "      <td>36609</td>\n",
       "      <td>1</td>\n",
       "    </tr>\n",
       "    <tr>\n",
       "      <th>120</th>\n",
       "      <td>북창갈비</td>\n",
       "      <td>32</td>\n",
       "      <td>858000</td>\n",
       "      <td>24</td>\n",
       "      <td>26812</td>\n",
       "      <td>35750</td>\n",
       "      <td>1</td>\n",
       "    </tr>\n",
       "    <tr>\n",
       "      <th>6</th>\n",
       "      <td>㈜바닷가작은부엌덕수궁점</td>\n",
       "      <td>101</td>\n",
       "      <td>2590100</td>\n",
       "      <td>79</td>\n",
       "      <td>25645</td>\n",
       "      <td>32786</td>\n",
       "      <td>1</td>\n",
       "    </tr>\n",
       "  </tbody>\n",
       "</table>\n",
       "</div>"
      ],
      "text/plain": [
       "             집행지명  cnt     집행금액  대상인원  회당집행금액  인당집행금액  회당명수\n",
       "250           초류향   31   842000    23   27161   36609     1\n",
       "120          북창갈비   32   858000    24   26812   35750     1\n",
       "6    ㈜바닷가작은부엌덕수궁점  101  2590100    79   25645   32786     1"
      ]
     },
     "execution_count": 300,
     "metadata": {},
     "output_type": "execute_result"
    }
   ],
   "source": [
    "# 2021\n",
    "df_groups[6].sort_values(by='인당집행금액', ascending=False).head(3)"
   ]
  },
  {
   "cell_type": "code",
   "execution_count": null,
   "metadata": {},
   "outputs": [],
   "source": []
  },
  {
   "cell_type": "markdown",
   "metadata": {},
   "source": [
    "### 5. 가장 많은 사람이 간 식당"
   ]
  },
  {
   "cell_type": "code",
   "execution_count": 301,
   "metadata": {},
   "outputs": [
    {
     "data": {
      "text/html": [
       "<div>\n",
       "<style scoped>\n",
       "    .dataframe tbody tr th:only-of-type {\n",
       "        vertical-align: middle;\n",
       "    }\n",
       "\n",
       "    .dataframe tbody tr th {\n",
       "        vertical-align: top;\n",
       "    }\n",
       "\n",
       "    .dataframe thead th {\n",
       "        text-align: right;\n",
       "    }\n",
       "</style>\n",
       "<table border=\"1\" class=\"dataframe\">\n",
       "  <thead>\n",
       "    <tr style=\"text-align: right;\">\n",
       "      <th></th>\n",
       "      <th>집행지명</th>\n",
       "      <th>cnt</th>\n",
       "      <th>집행금액</th>\n",
       "      <th>대상인원</th>\n",
       "      <th>회당집행금액</th>\n",
       "      <th>인당집행금액</th>\n",
       "      <th>회당명수</th>\n",
       "    </tr>\n",
       "  </thead>\n",
       "  <tbody>\n",
       "    <tr>\n",
       "      <th>1334</th>\n",
       "      <td>참숯골</td>\n",
       "      <td>1137</td>\n",
       "      <td>19053100</td>\n",
       "      <td>982</td>\n",
       "      <td>16757</td>\n",
       "      <td>19402</td>\n",
       "      <td>1</td>\n",
       "    </tr>\n",
       "    <tr>\n",
       "      <th>523</th>\n",
       "      <td>만복림</td>\n",
       "      <td>766</td>\n",
       "      <td>16694400</td>\n",
       "      <td>670</td>\n",
       "      <td>21794</td>\n",
       "      <td>24917</td>\n",
       "      <td>1</td>\n",
       "    </tr>\n",
       "    <tr>\n",
       "      <th>608</th>\n",
       "      <td>바닷가작은부엌</td>\n",
       "      <td>700</td>\n",
       "      <td>15119400</td>\n",
       "      <td>604</td>\n",
       "      <td>21599</td>\n",
       "      <td>25032</td>\n",
       "      <td>1</td>\n",
       "    </tr>\n",
       "  </tbody>\n",
       "</table>\n",
       "</div>"
      ],
      "text/plain": [
       "         집행지명   cnt      집행금액  대상인원  회당집행금액  인당집행금액  회당명수\n",
       "1334      참숯골  1137  19053100   982   16757   19402     1\n",
       "523       만복림   766  16694400   670   21794   24917     1\n",
       "608   바닷가작은부엌   700  15119400   604   21599   25032     1"
      ]
     },
     "execution_count": 301,
     "metadata": {},
     "output_type": "execute_result"
    }
   ],
   "source": [
    "# 전체\n",
    "df_groups[0].sort_values(by='대상인원', ascending=False).head(3)"
   ]
  },
  {
   "cell_type": "code",
   "execution_count": 302,
   "metadata": {},
   "outputs": [
    {
     "data": {
      "text/html": [
       "<div>\n",
       "<style scoped>\n",
       "    .dataframe tbody tr th:only-of-type {\n",
       "        vertical-align: middle;\n",
       "    }\n",
       "\n",
       "    .dataframe tbody tr th {\n",
       "        vertical-align: top;\n",
       "    }\n",
       "\n",
       "    .dataframe thead th {\n",
       "        text-align: right;\n",
       "    }\n",
       "</style>\n",
       "<table border=\"1\" class=\"dataframe\">\n",
       "  <thead>\n",
       "    <tr style=\"text-align: right;\">\n",
       "      <th></th>\n",
       "      <th>집행지명</th>\n",
       "      <th>cnt</th>\n",
       "      <th>집행금액</th>\n",
       "      <th>대상인원</th>\n",
       "      <th>회당집행금액</th>\n",
       "      <th>인당집행금액</th>\n",
       "      <th>회당명수</th>\n",
       "    </tr>\n",
       "  </thead>\n",
       "  <tbody>\n",
       "    <tr>\n",
       "      <th>58</th>\n",
       "      <td>던킨도너츠</td>\n",
       "      <td>501</td>\n",
       "      <td>2000000</td>\n",
       "      <td>500</td>\n",
       "      <td>3992</td>\n",
       "      <td>4000</td>\n",
       "      <td>1</td>\n",
       "    </tr>\n",
       "    <tr>\n",
       "      <th>88</th>\n",
       "      <td>몽중헌</td>\n",
       "      <td>168</td>\n",
       "      <td>5224000</td>\n",
       "      <td>150</td>\n",
       "      <td>31095</td>\n",
       "      <td>34827</td>\n",
       "      <td>1</td>\n",
       "    </tr>\n",
       "    <tr>\n",
       "      <th>221</th>\n",
       "      <td>코코호도</td>\n",
       "      <td>143</td>\n",
       "      <td>916000</td>\n",
       "      <td>140</td>\n",
       "      <td>6406</td>\n",
       "      <td>6543</td>\n",
       "      <td>1</td>\n",
       "    </tr>\n",
       "  </tbody>\n",
       "</table>\n",
       "</div>"
      ],
      "text/plain": [
       "      집행지명  cnt     집행금액  대상인원  회당집행금액  인당집행금액  회당명수\n",
       "58   던킨도너츠  501  2000000   500    3992    4000     1\n",
       "88     몽중헌  168  5224000   150   31095   34827     1\n",
       "221   코코호도  143   916000   140    6406    6543     1"
      ]
     },
     "execution_count": 302,
     "metadata": {},
     "output_type": "execute_result"
    }
   ],
   "source": [
    "# 2016\n",
    "df_groups[1].sort_values(by='대상인원', ascending=False).head(3)"
   ]
  },
  {
   "cell_type": "code",
   "execution_count": 303,
   "metadata": {},
   "outputs": [
    {
     "data": {
      "text/html": [
       "<div>\n",
       "<style scoped>\n",
       "    .dataframe tbody tr th:only-of-type {\n",
       "        vertical-align: middle;\n",
       "    }\n",
       "\n",
       "    .dataframe tbody tr th {\n",
       "        vertical-align: top;\n",
       "    }\n",
       "\n",
       "    .dataframe thead th {\n",
       "        text-align: right;\n",
       "    }\n",
       "</style>\n",
       "<table border=\"1\" class=\"dataframe\">\n",
       "  <thead>\n",
       "    <tr style=\"text-align: right;\">\n",
       "      <th></th>\n",
       "      <th>집행지명</th>\n",
       "      <th>cnt</th>\n",
       "      <th>집행금액</th>\n",
       "      <th>대상인원</th>\n",
       "      <th>회당집행금액</th>\n",
       "      <th>인당집행금액</th>\n",
       "      <th>회당명수</th>\n",
       "    </tr>\n",
       "  </thead>\n",
       "  <tbody>\n",
       "    <tr>\n",
       "      <th>188</th>\n",
       "      <td>빚은</td>\n",
       "      <td>236</td>\n",
       "      <td>1621000</td>\n",
       "      <td>229</td>\n",
       "      <td>6869</td>\n",
       "      <td>7079</td>\n",
       "      <td>1</td>\n",
       "    </tr>\n",
       "    <tr>\n",
       "      <th>275</th>\n",
       "      <td>열빈</td>\n",
       "      <td>229</td>\n",
       "      <td>4696000</td>\n",
       "      <td>210</td>\n",
       "      <td>20507</td>\n",
       "      <td>22362</td>\n",
       "      <td>1</td>\n",
       "    </tr>\n",
       "    <tr>\n",
       "      <th>373</th>\n",
       "      <td>참숯골</td>\n",
       "      <td>237</td>\n",
       "      <td>3537700</td>\n",
       "      <td>204</td>\n",
       "      <td>14927</td>\n",
       "      <td>17342</td>\n",
       "      <td>1</td>\n",
       "    </tr>\n",
       "  </tbody>\n",
       "</table>\n",
       "</div>"
      ],
      "text/plain": [
       "    집행지명  cnt     집행금액  대상인원  회당집행금액  인당집행금액  회당명수\n",
       "188   빚은  236  1621000   229    6869    7079     1\n",
       "275   열빈  229  4696000   210   20507   22362     1\n",
       "373  참숯골  237  3537700   204   14927   17342     1"
      ]
     },
     "execution_count": 303,
     "metadata": {},
     "output_type": "execute_result"
    }
   ],
   "source": [
    "# 2017\n",
    "df_groups[2].sort_values(by='대상인원', ascending=False).head(3)"
   ]
  },
  {
   "cell_type": "code",
   "execution_count": 304,
   "metadata": {},
   "outputs": [
    {
     "data": {
      "text/html": [
       "<div>\n",
       "<style scoped>\n",
       "    .dataframe tbody tr th:only-of-type {\n",
       "        vertical-align: middle;\n",
       "    }\n",
       "\n",
       "    .dataframe tbody tr th {\n",
       "        vertical-align: top;\n",
       "    }\n",
       "\n",
       "    .dataframe thead th {\n",
       "        text-align: right;\n",
       "    }\n",
       "</style>\n",
       "<table border=\"1\" class=\"dataframe\">\n",
       "  <thead>\n",
       "    <tr style=\"text-align: right;\">\n",
       "      <th></th>\n",
       "      <th>집행지명</th>\n",
       "      <th>cnt</th>\n",
       "      <th>집행금액</th>\n",
       "      <th>대상인원</th>\n",
       "      <th>회당집행금액</th>\n",
       "      <th>인당집행금액</th>\n",
       "      <th>회당명수</th>\n",
       "    </tr>\n",
       "  </thead>\n",
       "  <tbody>\n",
       "    <tr>\n",
       "      <th>302</th>\n",
       "      <td>연남빠니니</td>\n",
       "      <td>500</td>\n",
       "      <td>1940000</td>\n",
       "      <td>499</td>\n",
       "      <td>3880</td>\n",
       "      <td>3888</td>\n",
       "      <td>1</td>\n",
       "    </tr>\n",
       "    <tr>\n",
       "      <th>147</th>\n",
       "      <td>만복림</td>\n",
       "      <td>303</td>\n",
       "      <td>7110800</td>\n",
       "      <td>274</td>\n",
       "      <td>23468</td>\n",
       "      <td>25952</td>\n",
       "      <td>1</td>\n",
       "    </tr>\n",
       "    <tr>\n",
       "      <th>181</th>\n",
       "      <td>바닷가작은부엌</td>\n",
       "      <td>290</td>\n",
       "      <td>6679000</td>\n",
       "      <td>248</td>\n",
       "      <td>23031</td>\n",
       "      <td>26931</td>\n",
       "      <td>1</td>\n",
       "    </tr>\n",
       "  </tbody>\n",
       "</table>\n",
       "</div>"
      ],
      "text/plain": [
       "        집행지명  cnt     집행금액  대상인원  회당집행금액  인당집행금액  회당명수\n",
       "302    연남빠니니  500  1940000   499    3880    3888     1\n",
       "147      만복림  303  7110800   274   23468   25952     1\n",
       "181  바닷가작은부엌  290  6679000   248   23031   26931     1"
      ]
     },
     "execution_count": 304,
     "metadata": {},
     "output_type": "execute_result"
    }
   ],
   "source": [
    "# 2018\n",
    "df_groups[3].sort_values(by='대상인원', ascending=False).head(3)"
   ]
  },
  {
   "cell_type": "code",
   "execution_count": 305,
   "metadata": {},
   "outputs": [
    {
     "data": {
      "text/html": [
       "<div>\n",
       "<style scoped>\n",
       "    .dataframe tbody tr th:only-of-type {\n",
       "        vertical-align: middle;\n",
       "    }\n",
       "\n",
       "    .dataframe tbody tr th {\n",
       "        vertical-align: top;\n",
       "    }\n",
       "\n",
       "    .dataframe thead th {\n",
       "        text-align: right;\n",
       "    }\n",
       "</style>\n",
       "<table border=\"1\" class=\"dataframe\">\n",
       "  <thead>\n",
       "    <tr style=\"text-align: right;\">\n",
       "      <th></th>\n",
       "      <th>집행지명</th>\n",
       "      <th>cnt</th>\n",
       "      <th>집행금액</th>\n",
       "      <th>대상인원</th>\n",
       "      <th>회당집행금액</th>\n",
       "      <th>인당집행금액</th>\n",
       "      <th>회당명수</th>\n",
       "    </tr>\n",
       "  </thead>\n",
       "  <tbody>\n",
       "    <tr>\n",
       "      <th>339</th>\n",
       "      <td>엔젤호두파이</td>\n",
       "      <td>601</td>\n",
       "      <td>2640000</td>\n",
       "      <td>600</td>\n",
       "      <td>4393</td>\n",
       "      <td>4400</td>\n",
       "      <td>1</td>\n",
       "    </tr>\n",
       "    <tr>\n",
       "      <th>457</th>\n",
       "      <td>참숯골</td>\n",
       "      <td>414</td>\n",
       "      <td>6852000</td>\n",
       "      <td>358</td>\n",
       "      <td>16551</td>\n",
       "      <td>19140</td>\n",
       "      <td>1</td>\n",
       "    </tr>\n",
       "    <tr>\n",
       "      <th>190</th>\n",
       "      <td>만복림</td>\n",
       "      <td>394</td>\n",
       "      <td>8233100</td>\n",
       "      <td>335</td>\n",
       "      <td>20896</td>\n",
       "      <td>24576</td>\n",
       "      <td>1</td>\n",
       "    </tr>\n",
       "  </tbody>\n",
       "</table>\n",
       "</div>"
      ],
      "text/plain": [
       "       집행지명  cnt     집행금액  대상인원  회당집행금액  인당집행금액  회당명수\n",
       "339  엔젤호두파이  601  2640000   600    4393    4400     1\n",
       "457     참숯골  414  6852000   358   16551   19140     1\n",
       "190     만복림  394  8233100   335   20896   24576     1"
      ]
     },
     "execution_count": 305,
     "metadata": {},
     "output_type": "execute_result"
    }
   ],
   "source": [
    "# 2019\n",
    "df_groups[4].sort_values(by='대상인원', ascending=False).head(3)"
   ]
  },
  {
   "cell_type": "code",
   "execution_count": 306,
   "metadata": {},
   "outputs": [
    {
     "data": {
      "text/html": [
       "<div>\n",
       "<style scoped>\n",
       "    .dataframe tbody tr th:only-of-type {\n",
       "        vertical-align: middle;\n",
       "    }\n",
       "\n",
       "    .dataframe tbody tr th {\n",
       "        vertical-align: top;\n",
       "    }\n",
       "\n",
       "    .dataframe thead th {\n",
       "        text-align: right;\n",
       "    }\n",
       "</style>\n",
       "<table border=\"1\" class=\"dataframe\">\n",
       "  <thead>\n",
       "    <tr style=\"text-align: right;\">\n",
       "      <th></th>\n",
       "      <th>집행지명</th>\n",
       "      <th>cnt</th>\n",
       "      <th>집행금액</th>\n",
       "      <th>대상인원</th>\n",
       "      <th>회당집행금액</th>\n",
       "      <th>인당집행금액</th>\n",
       "      <th>회당명수</th>\n",
       "    </tr>\n",
       "  </thead>\n",
       "  <tbody>\n",
       "    <tr>\n",
       "      <th>318</th>\n",
       "      <td>엄마손마트</td>\n",
       "      <td>300</td>\n",
       "      <td>2485600</td>\n",
       "      <td>299</td>\n",
       "      <td>8285</td>\n",
       "      <td>8313</td>\n",
       "      <td>1</td>\n",
       "    </tr>\n",
       "    <tr>\n",
       "      <th>22</th>\n",
       "      <td>㈜바닷가작은부엌덕수궁점</td>\n",
       "      <td>297</td>\n",
       "      <td>5597000</td>\n",
       "      <td>259</td>\n",
       "      <td>18845</td>\n",
       "      <td>21610</td>\n",
       "      <td>1</td>\n",
       "    </tr>\n",
       "    <tr>\n",
       "      <th>197</th>\n",
       "      <td>배재반점</td>\n",
       "      <td>284</td>\n",
       "      <td>6331000</td>\n",
       "      <td>246</td>\n",
       "      <td>22292</td>\n",
       "      <td>25736</td>\n",
       "      <td>1</td>\n",
       "    </tr>\n",
       "  </tbody>\n",
       "</table>\n",
       "</div>"
      ],
      "text/plain": [
       "             집행지명  cnt     집행금액  대상인원  회당집행금액  인당집행금액  회당명수\n",
       "318         엄마손마트  300  2485600   299    8285    8313     1\n",
       "22   ㈜바닷가작은부엌덕수궁점  297  5597000   259   18845   21610     1\n",
       "197          배재반점  284  6331000   246   22292   25736     1"
      ]
     },
     "execution_count": 306,
     "metadata": {},
     "output_type": "execute_result"
    }
   ],
   "source": [
    "# 2020\n",
    "df_groups[5].sort_values(by='대상인원', ascending=False).head(3)"
   ]
  },
  {
   "cell_type": "code",
   "execution_count": 307,
   "metadata": {},
   "outputs": [
    {
     "data": {
      "text/html": [
       "<div>\n",
       "<style scoped>\n",
       "    .dataframe tbody tr th:only-of-type {\n",
       "        vertical-align: middle;\n",
       "    }\n",
       "\n",
       "    .dataframe tbody tr th {\n",
       "        vertical-align: top;\n",
       "    }\n",
       "\n",
       "    .dataframe thead th {\n",
       "        text-align: right;\n",
       "    }\n",
       "</style>\n",
       "<table border=\"1\" class=\"dataframe\">\n",
       "  <thead>\n",
       "    <tr style=\"text-align: right;\">\n",
       "      <th></th>\n",
       "      <th>집행지명</th>\n",
       "      <th>cnt</th>\n",
       "      <th>집행금액</th>\n",
       "      <th>대상인원</th>\n",
       "      <th>회당집행금액</th>\n",
       "      <th>인당집행금액</th>\n",
       "      <th>회당명수</th>\n",
       "    </tr>\n",
       "  </thead>\n",
       "  <tbody>\n",
       "    <tr>\n",
       "      <th>6</th>\n",
       "      <td>㈜바닷가작은부엌덕수궁점</td>\n",
       "      <td>101</td>\n",
       "      <td>2590100</td>\n",
       "      <td>79</td>\n",
       "      <td>25645</td>\n",
       "      <td>32786</td>\n",
       "      <td>1</td>\n",
       "    </tr>\n",
       "    <tr>\n",
       "      <th>50</th>\n",
       "      <td>대복</td>\n",
       "      <td>95</td>\n",
       "      <td>1933000</td>\n",
       "      <td>73</td>\n",
       "      <td>20347</td>\n",
       "      <td>26479</td>\n",
       "      <td>1</td>\n",
       "    </tr>\n",
       "    <tr>\n",
       "      <th>152</th>\n",
       "      <td>송탄영빈루</td>\n",
       "      <td>89</td>\n",
       "      <td>1651000</td>\n",
       "      <td>66</td>\n",
       "      <td>18551</td>\n",
       "      <td>25015</td>\n",
       "      <td>1</td>\n",
       "    </tr>\n",
       "  </tbody>\n",
       "</table>\n",
       "</div>"
      ],
      "text/plain": [
       "             집행지명  cnt     집행금액  대상인원  회당집행금액  인당집행금액  회당명수\n",
       "6    ㈜바닷가작은부엌덕수궁점  101  2590100    79   25645   32786     1\n",
       "50             대복   95  1933000    73   20347   26479     1\n",
       "152         송탄영빈루   89  1651000    66   18551   25015     1"
      ]
     },
     "execution_count": 307,
     "metadata": {},
     "output_type": "execute_result"
    }
   ],
   "source": [
    "# 2021\n",
    "df_groups[6].sort_values(by='대상인원', ascending=False).head(3)"
   ]
  },
  {
   "cell_type": "markdown",
   "metadata": {},
   "source": [
    "### 6. 단체손님이 많이 가는 식당\n",
    "8명 이상의 단체손님이 가는 식당 중 가장 자주 가는 식당"
   ]
  },
  {
   "cell_type": "code",
   "execution_count": 308,
   "metadata": {},
   "outputs": [
    {
     "data": {
      "text/html": [
       "<div>\n",
       "<style scoped>\n",
       "    .dataframe tbody tr th:only-of-type {\n",
       "        vertical-align: middle;\n",
       "    }\n",
       "\n",
       "    .dataframe tbody tr th {\n",
       "        vertical-align: top;\n",
       "    }\n",
       "\n",
       "    .dataframe thead th {\n",
       "        text-align: right;\n",
       "    }\n",
       "</style>\n",
       "<table border=\"1\" class=\"dataframe\">\n",
       "  <thead>\n",
       "    <tr style=\"text-align: right;\">\n",
       "      <th></th>\n",
       "      <th>집행지명</th>\n",
       "      <th>cnt</th>\n",
       "      <th>집행금액</th>\n",
       "      <th>대상인원</th>\n",
       "      <th>회당집행금액</th>\n",
       "      <th>인당집행금액</th>\n",
       "      <th>회당명수</th>\n",
       "    </tr>\n",
       "  </thead>\n",
       "  <tbody>\n",
       "  </tbody>\n",
       "</table>\n",
       "</div>"
      ],
      "text/plain": [
       "Empty DataFrame\n",
       "Columns: [집행지명, cnt, 집행금액, 대상인원, 회당집행금액, 인당집행금액, 회당명수]\n",
       "Index: []"
      ]
     },
     "execution_count": 308,
     "metadata": {},
     "output_type": "execute_result"
    }
   ],
   "source": [
    "# 전체\n",
    "df_groups[0][df_groups[0]['회당명수']>7].sort_values(by='cnt', ascending=False).head(3)"
   ]
  },
  {
   "cell_type": "code",
   "execution_count": 309,
   "metadata": {},
   "outputs": [
    {
     "data": {
      "text/html": [
       "<div>\n",
       "<style scoped>\n",
       "    .dataframe tbody tr th:only-of-type {\n",
       "        vertical-align: middle;\n",
       "    }\n",
       "\n",
       "    .dataframe tbody tr th {\n",
       "        vertical-align: top;\n",
       "    }\n",
       "\n",
       "    .dataframe thead th {\n",
       "        text-align: right;\n",
       "    }\n",
       "</style>\n",
       "<table border=\"1\" class=\"dataframe\">\n",
       "  <thead>\n",
       "    <tr style=\"text-align: right;\">\n",
       "      <th></th>\n",
       "      <th>집행지명</th>\n",
       "      <th>cnt</th>\n",
       "      <th>집행금액</th>\n",
       "      <th>대상인원</th>\n",
       "      <th>회당집행금액</th>\n",
       "      <th>인당집행금액</th>\n",
       "      <th>회당명수</th>\n",
       "    </tr>\n",
       "  </thead>\n",
       "  <tbody>\n",
       "  </tbody>\n",
       "</table>\n",
       "</div>"
      ],
      "text/plain": [
       "Empty DataFrame\n",
       "Columns: [집행지명, cnt, 집행금액, 대상인원, 회당집행금액, 인당집행금액, 회당명수]\n",
       "Index: []"
      ]
     },
     "execution_count": 309,
     "metadata": {},
     "output_type": "execute_result"
    }
   ],
   "source": [
    "# 2016년\n",
    "# 2016년엔 단체로 가지 않은 것일까, 데이터가 적은 것일까\n",
    "df_groups[1][df_groups[1]['회당명수']>7].sort_values(by='cnt', ascending=False).head(3)"
   ]
  },
  {
   "cell_type": "code",
   "execution_count": 310,
   "metadata": {},
   "outputs": [
    {
     "data": {
      "text/html": [
       "<div>\n",
       "<style scoped>\n",
       "    .dataframe tbody tr th:only-of-type {\n",
       "        vertical-align: middle;\n",
       "    }\n",
       "\n",
       "    .dataframe tbody tr th {\n",
       "        vertical-align: top;\n",
       "    }\n",
       "\n",
       "    .dataframe thead th {\n",
       "        text-align: right;\n",
       "    }\n",
       "</style>\n",
       "<table border=\"1\" class=\"dataframe\">\n",
       "  <thead>\n",
       "    <tr style=\"text-align: right;\">\n",
       "      <th></th>\n",
       "      <th>집행지명</th>\n",
       "      <th>cnt</th>\n",
       "      <th>집행금액</th>\n",
       "      <th>대상인원</th>\n",
       "      <th>회당집행금액</th>\n",
       "      <th>인당집행금액</th>\n",
       "      <th>회당명수</th>\n",
       "    </tr>\n",
       "  </thead>\n",
       "  <tbody>\n",
       "  </tbody>\n",
       "</table>\n",
       "</div>"
      ],
      "text/plain": [
       "Empty DataFrame\n",
       "Columns: [집행지명, cnt, 집행금액, 대상인원, 회당집행금액, 인당집행금액, 회당명수]\n",
       "Index: []"
      ]
     },
     "execution_count": 310,
     "metadata": {},
     "output_type": "execute_result"
    }
   ],
   "source": [
    "# 2017년\n",
    "df_groups[2][df_groups[2]['회당명수']>7].sort_values(by='cnt', ascending=False).head(3)"
   ]
  },
  {
   "cell_type": "code",
   "execution_count": 311,
   "metadata": {},
   "outputs": [
    {
     "data": {
      "text/html": [
       "<div>\n",
       "<style scoped>\n",
       "    .dataframe tbody tr th:only-of-type {\n",
       "        vertical-align: middle;\n",
       "    }\n",
       "\n",
       "    .dataframe tbody tr th {\n",
       "        vertical-align: top;\n",
       "    }\n",
       "\n",
       "    .dataframe thead th {\n",
       "        text-align: right;\n",
       "    }\n",
       "</style>\n",
       "<table border=\"1\" class=\"dataframe\">\n",
       "  <thead>\n",
       "    <tr style=\"text-align: right;\">\n",
       "      <th></th>\n",
       "      <th>집행지명</th>\n",
       "      <th>cnt</th>\n",
       "      <th>집행금액</th>\n",
       "      <th>대상인원</th>\n",
       "      <th>회당집행금액</th>\n",
       "      <th>인당집행금액</th>\n",
       "      <th>회당명수</th>\n",
       "    </tr>\n",
       "  </thead>\n",
       "  <tbody>\n",
       "  </tbody>\n",
       "</table>\n",
       "</div>"
      ],
      "text/plain": [
       "Empty DataFrame\n",
       "Columns: [집행지명, cnt, 집행금액, 대상인원, 회당집행금액, 인당집행금액, 회당명수]\n",
       "Index: []"
      ]
     },
     "execution_count": 311,
     "metadata": {},
     "output_type": "execute_result"
    }
   ],
   "source": [
    "# 2018년\n",
    "# 2016, 2017년에 사랑받던 제일가든이 없어지고 열빈이 대세가됨\n",
    "df_groups[3][df_groups[3]['회당명수']>7].sort_values(by='cnt', ascending=False).head(3)"
   ]
  },
  {
   "cell_type": "code",
   "execution_count": 312,
   "metadata": {},
   "outputs": [
    {
     "data": {
      "text/html": [
       "<div>\n",
       "<style scoped>\n",
       "    .dataframe tbody tr th:only-of-type {\n",
       "        vertical-align: middle;\n",
       "    }\n",
       "\n",
       "    .dataframe tbody tr th {\n",
       "        vertical-align: top;\n",
       "    }\n",
       "\n",
       "    .dataframe thead th {\n",
       "        text-align: right;\n",
       "    }\n",
       "</style>\n",
       "<table border=\"1\" class=\"dataframe\">\n",
       "  <thead>\n",
       "    <tr style=\"text-align: right;\">\n",
       "      <th></th>\n",
       "      <th>집행지명</th>\n",
       "      <th>cnt</th>\n",
       "      <th>집행금액</th>\n",
       "      <th>대상인원</th>\n",
       "      <th>회당집행금액</th>\n",
       "      <th>인당집행금액</th>\n",
       "      <th>회당명수</th>\n",
       "    </tr>\n",
       "  </thead>\n",
       "  <tbody>\n",
       "  </tbody>\n",
       "</table>\n",
       "</div>"
      ],
      "text/plain": [
       "Empty DataFrame\n",
       "Columns: [집행지명, cnt, 집행금액, 대상인원, 회당집행금액, 인당집행금액, 회당명수]\n",
       "Index: []"
      ]
     },
     "execution_count": 312,
     "metadata": {},
     "output_type": "execute_result"
    }
   ],
   "source": [
    "df_groups[4][df_groups[4]['회당명수']>7].sort_values(by='cnt', ascending=False).head(3)"
   ]
  },
  {
   "cell_type": "code",
   "execution_count": 313,
   "metadata": {},
   "outputs": [
    {
     "data": {
      "text/html": [
       "<div>\n",
       "<style scoped>\n",
       "    .dataframe tbody tr th:only-of-type {\n",
       "        vertical-align: middle;\n",
       "    }\n",
       "\n",
       "    .dataframe tbody tr th {\n",
       "        vertical-align: top;\n",
       "    }\n",
       "\n",
       "    .dataframe thead th {\n",
       "        text-align: right;\n",
       "    }\n",
       "</style>\n",
       "<table border=\"1\" class=\"dataframe\">\n",
       "  <thead>\n",
       "    <tr style=\"text-align: right;\">\n",
       "      <th></th>\n",
       "      <th>집행지명</th>\n",
       "      <th>cnt</th>\n",
       "      <th>집행금액</th>\n",
       "      <th>대상인원</th>\n",
       "      <th>회당집행금액</th>\n",
       "      <th>인당집행금액</th>\n",
       "      <th>회당명수</th>\n",
       "    </tr>\n",
       "  </thead>\n",
       "  <tbody>\n",
       "  </tbody>\n",
       "</table>\n",
       "</div>"
      ],
      "text/plain": [
       "Empty DataFrame\n",
       "Columns: [집행지명, cnt, 집행금액, 대상인원, 회당집행금액, 인당집행금액, 회당명수]\n",
       "Index: []"
      ]
     },
     "execution_count": 313,
     "metadata": {},
     "output_type": "execute_result"
    }
   ],
   "source": [
    "df_groups[5][df_groups[5]['회당명수']>7].sort_values(by='cnt', ascending=False).head(3)"
   ]
  },
  {
   "cell_type": "code",
   "execution_count": 314,
   "metadata": {},
   "outputs": [
    {
     "data": {
      "text/html": [
       "<div>\n",
       "<style scoped>\n",
       "    .dataframe tbody tr th:only-of-type {\n",
       "        vertical-align: middle;\n",
       "    }\n",
       "\n",
       "    .dataframe tbody tr th {\n",
       "        vertical-align: top;\n",
       "    }\n",
       "\n",
       "    .dataframe thead th {\n",
       "        text-align: right;\n",
       "    }\n",
       "</style>\n",
       "<table border=\"1\" class=\"dataframe\">\n",
       "  <thead>\n",
       "    <tr style=\"text-align: right;\">\n",
       "      <th></th>\n",
       "      <th>집행지명</th>\n",
       "      <th>cnt</th>\n",
       "      <th>집행금액</th>\n",
       "      <th>대상인원</th>\n",
       "      <th>회당집행금액</th>\n",
       "      <th>인당집행금액</th>\n",
       "      <th>회당명수</th>\n",
       "    </tr>\n",
       "  </thead>\n",
       "  <tbody>\n",
       "  </tbody>\n",
       "</table>\n",
       "</div>"
      ],
      "text/plain": [
       "Empty DataFrame\n",
       "Columns: [집행지명, cnt, 집행금액, 대상인원, 회당집행금액, 인당집행금액, 회당명수]\n",
       "Index: []"
      ]
     },
     "execution_count": 314,
     "metadata": {},
     "output_type": "execute_result"
    }
   ],
   "source": [
    "df_groups[6][df_groups[6]['회당명수']>7].sort_values(by='cnt', ascending=False).head(3)"
   ]
  },
  {
   "cell_type": "markdown",
   "metadata": {},
   "source": [
    "## 부서별로 살펴보기"
   ]
  },
  {
   "cell_type": "code",
   "execution_count": 315,
   "metadata": {},
   "outputs": [
    {
     "name": "stderr",
     "output_type": "stream",
     "text": [
      "<ipython-input-315-fffd74038078>:3: FutureWarning: Indexing with multiple keys (implicitly converted to a tuple of keys) will be deprecated, use a list instead.\n",
      "  df_divs = df.groupby('소속부서1')['cnt', 'num', '집행금액']\\\n"
     ]
    }
   ],
   "source": [
    "# 부서별로 묶기\n",
    "def make_divs(df):\n",
    "    df_divs = df.groupby('소속부서1')['cnt', 'num', '집행금액']\\\n",
    "            .sum().reset_index()\n",
    "    # 인당/회당 금액 내기\n",
    "    df_divs['인당집행금액'] = df_divs['집행금액'] / df_divs['num']\n",
    "    df_divs['회당집행금액'] = df_divs['집행금액'] / df_divs['cnt']\n",
    "    df_divs['인당집행금액'] = round(df_divs['인당집행금액']).astype(int)\n",
    "    df_divs['회당집행금액'] = round(df_divs['회당집행금액']).astype(int)\n",
    "    return df_divs\n",
    "\n",
    "df_divs=[]\n",
    "for i, df in enumerate(dfs):\n",
    "    df_divs.append(make_divs(df))"
   ]
  },
  {
   "cell_type": "markdown",
   "metadata": {},
   "source": [
    "### 1. 가장 회식을 자주 한 부서"
   ]
  },
  {
   "cell_type": "code",
   "execution_count": 316,
   "metadata": {},
   "outputs": [
    {
     "data": {
      "text/html": [
       "<div>\n",
       "<style scoped>\n",
       "    .dataframe tbody tr th:only-of-type {\n",
       "        vertical-align: middle;\n",
       "    }\n",
       "\n",
       "    .dataframe tbody tr th {\n",
       "        vertical-align: top;\n",
       "    }\n",
       "\n",
       "    .dataframe thead th {\n",
       "        text-align: right;\n",
       "    }\n",
       "</style>\n",
       "<table border=\"1\" class=\"dataframe\">\n",
       "  <thead>\n",
       "    <tr style=\"text-align: right;\">\n",
       "      <th></th>\n",
       "      <th>소속부서1</th>\n",
       "      <th>cnt</th>\n",
       "      <th>num</th>\n",
       "      <th>집행금액</th>\n",
       "      <th>인당집행금액</th>\n",
       "      <th>회당집행금액</th>\n",
       "    </tr>\n",
       "  </thead>\n",
       "  <tbody>\n",
       "    <tr>\n",
       "      <th>0</th>\n",
       "      <td>감사위원회</td>\n",
       "      <td>55441</td>\n",
       "      <td>7707</td>\n",
       "      <td>1011714832</td>\n",
       "      <td>131272</td>\n",
       "      <td>18248</td>\n",
       "    </tr>\n",
       "  </tbody>\n",
       "</table>\n",
       "</div>"
      ],
      "text/plain": [
       "   소속부서1    cnt   num        집행금액  인당집행금액  회당집행금액\n",
       "0  감사위원회  55441  7707  1011714832  131272   18248"
      ]
     },
     "execution_count": 316,
     "metadata": {},
     "output_type": "execute_result"
    }
   ],
   "source": [
    "# 전체\n",
    "df_divs[0].sort_values(by='cnt', ascending=False).head(3)"
   ]
  },
  {
   "cell_type": "code",
   "execution_count": 317,
   "metadata": {},
   "outputs": [
    {
     "data": {
      "text/html": [
       "<div>\n",
       "<style scoped>\n",
       "    .dataframe tbody tr th:only-of-type {\n",
       "        vertical-align: middle;\n",
       "    }\n",
       "\n",
       "    .dataframe tbody tr th {\n",
       "        vertical-align: top;\n",
       "    }\n",
       "\n",
       "    .dataframe thead th {\n",
       "        text-align: right;\n",
       "    }\n",
       "</style>\n",
       "<table border=\"1\" class=\"dataframe\">\n",
       "  <thead>\n",
       "    <tr style=\"text-align: right;\">\n",
       "      <th></th>\n",
       "      <th>소속부서1</th>\n",
       "      <th>cnt</th>\n",
       "      <th>num</th>\n",
       "      <th>집행금액</th>\n",
       "      <th>인당집행금액</th>\n",
       "      <th>회당집행금액</th>\n",
       "    </tr>\n",
       "  </thead>\n",
       "  <tbody>\n",
       "    <tr>\n",
       "      <th>0</th>\n",
       "      <td>감사위원회</td>\n",
       "      <td>4987</td>\n",
       "      <td>477</td>\n",
       "      <td>104135000</td>\n",
       "      <td>218312</td>\n",
       "      <td>20881</td>\n",
       "    </tr>\n",
       "  </tbody>\n",
       "</table>\n",
       "</div>"
      ],
      "text/plain": [
       "   소속부서1   cnt  num       집행금액  인당집행금액  회당집행금액\n",
       "0  감사위원회  4987  477  104135000  218312   20881"
      ]
     },
     "execution_count": 317,
     "metadata": {},
     "output_type": "execute_result"
    }
   ],
   "source": [
    "# 2016\n",
    "df_divs[1].sort_values(by='cnt', ascending=False).head(5)"
   ]
  },
  {
   "cell_type": "code",
   "execution_count": 318,
   "metadata": {},
   "outputs": [
    {
     "data": {
      "text/html": [
       "<div>\n",
       "<style scoped>\n",
       "    .dataframe tbody tr th:only-of-type {\n",
       "        vertical-align: middle;\n",
       "    }\n",
       "\n",
       "    .dataframe tbody tr th {\n",
       "        vertical-align: top;\n",
       "    }\n",
       "\n",
       "    .dataframe thead th {\n",
       "        text-align: right;\n",
       "    }\n",
       "</style>\n",
       "<table border=\"1\" class=\"dataframe\">\n",
       "  <thead>\n",
       "    <tr style=\"text-align: right;\">\n",
       "      <th></th>\n",
       "      <th>소속부서1</th>\n",
       "      <th>cnt</th>\n",
       "      <th>num</th>\n",
       "      <th>집행금액</th>\n",
       "      <th>인당집행금액</th>\n",
       "      <th>회당집행금액</th>\n",
       "    </tr>\n",
       "  </thead>\n",
       "  <tbody>\n",
       "    <tr>\n",
       "      <th>0</th>\n",
       "      <td>감사위원회</td>\n",
       "      <td>11802</td>\n",
       "      <td>1500</td>\n",
       "      <td>207158860</td>\n",
       "      <td>138106</td>\n",
       "      <td>17553</td>\n",
       "    </tr>\n",
       "  </tbody>\n",
       "</table>\n",
       "</div>"
      ],
      "text/plain": [
       "   소속부서1    cnt   num       집행금액  인당집행금액  회당집행금액\n",
       "0  감사위원회  11802  1500  207158860  138106   17553"
      ]
     },
     "execution_count": 318,
     "metadata": {},
     "output_type": "execute_result"
    }
   ],
   "source": [
    "# 2017\n",
    "df_divs[2].sort_values(by='cnt', ascending=False).head(5)"
   ]
  },
  {
   "cell_type": "code",
   "execution_count": 319,
   "metadata": {},
   "outputs": [
    {
     "data": {
      "text/html": [
       "<div>\n",
       "<style scoped>\n",
       "    .dataframe tbody tr th:only-of-type {\n",
       "        vertical-align: middle;\n",
       "    }\n",
       "\n",
       "    .dataframe tbody tr th {\n",
       "        vertical-align: top;\n",
       "    }\n",
       "\n",
       "    .dataframe thead th {\n",
       "        text-align: right;\n",
       "    }\n",
       "</style>\n",
       "<table border=\"1\" class=\"dataframe\">\n",
       "  <thead>\n",
       "    <tr style=\"text-align: right;\">\n",
       "      <th></th>\n",
       "      <th>소속부서1</th>\n",
       "      <th>cnt</th>\n",
       "      <th>num</th>\n",
       "      <th>집행금액</th>\n",
       "      <th>인당집행금액</th>\n",
       "      <th>회당집행금액</th>\n",
       "    </tr>\n",
       "  </thead>\n",
       "  <tbody>\n",
       "    <tr>\n",
       "      <th>0</th>\n",
       "      <td>감사위원회</td>\n",
       "      <td>10329</td>\n",
       "      <td>1370</td>\n",
       "      <td>206881063</td>\n",
       "      <td>151008</td>\n",
       "      <td>20029</td>\n",
       "    </tr>\n",
       "  </tbody>\n",
       "</table>\n",
       "</div>"
      ],
      "text/plain": [
       "   소속부서1    cnt   num       집행금액  인당집행금액  회당집행금액\n",
       "0  감사위원회  10329  1370  206881063  151008   20029"
      ]
     },
     "execution_count": 319,
     "metadata": {},
     "output_type": "execute_result"
    }
   ],
   "source": [
    "\n",
    "df_divs[3].sort_values(by='cnt', ascending=False).head(5)"
   ]
  },
  {
   "cell_type": "code",
   "execution_count": 320,
   "metadata": {},
   "outputs": [
    {
     "data": {
      "text/html": [
       "<div>\n",
       "<style scoped>\n",
       "    .dataframe tbody tr th:only-of-type {\n",
       "        vertical-align: middle;\n",
       "    }\n",
       "\n",
       "    .dataframe tbody tr th {\n",
       "        vertical-align: top;\n",
       "    }\n",
       "\n",
       "    .dataframe thead th {\n",
       "        text-align: right;\n",
       "    }\n",
       "</style>\n",
       "<table border=\"1\" class=\"dataframe\">\n",
       "  <thead>\n",
       "    <tr style=\"text-align: right;\">\n",
       "      <th></th>\n",
       "      <th>소속부서1</th>\n",
       "      <th>cnt</th>\n",
       "      <th>num</th>\n",
       "      <th>집행금액</th>\n",
       "      <th>인당집행금액</th>\n",
       "      <th>회당집행금액</th>\n",
       "    </tr>\n",
       "  </thead>\n",
       "  <tbody>\n",
       "    <tr>\n",
       "      <th>0</th>\n",
       "      <td>감사위원회</td>\n",
       "      <td>15642</td>\n",
       "      <td>2067</td>\n",
       "      <td>273185421</td>\n",
       "      <td>132165</td>\n",
       "      <td>17465</td>\n",
       "    </tr>\n",
       "  </tbody>\n",
       "</table>\n",
       "</div>"
      ],
      "text/plain": [
       "   소속부서1    cnt   num       집행금액  인당집행금액  회당집행금액\n",
       "0  감사위원회  15642  2067  273185421  132165   17465"
      ]
     },
     "execution_count": 320,
     "metadata": {},
     "output_type": "execute_result"
    }
   ],
   "source": [
    "df_divs[4].sort_values(by='cnt', ascending=False).head(5)"
   ]
  },
  {
   "cell_type": "code",
   "execution_count": 321,
   "metadata": {},
   "outputs": [
    {
     "data": {
      "text/html": [
       "<div>\n",
       "<style scoped>\n",
       "    .dataframe tbody tr th:only-of-type {\n",
       "        vertical-align: middle;\n",
       "    }\n",
       "\n",
       "    .dataframe tbody tr th {\n",
       "        vertical-align: top;\n",
       "    }\n",
       "\n",
       "    .dataframe thead th {\n",
       "        text-align: right;\n",
       "    }\n",
       "</style>\n",
       "<table border=\"1\" class=\"dataframe\">\n",
       "  <thead>\n",
       "    <tr style=\"text-align: right;\">\n",
       "      <th></th>\n",
       "      <th>소속부서1</th>\n",
       "      <th>cnt</th>\n",
       "      <th>num</th>\n",
       "      <th>집행금액</th>\n",
       "      <th>인당집행금액</th>\n",
       "      <th>회당집행금액</th>\n",
       "    </tr>\n",
       "  </thead>\n",
       "  <tbody>\n",
       "    <tr>\n",
       "      <th>0</th>\n",
       "      <td>감사위원회</td>\n",
       "      <td>9903</td>\n",
       "      <td>1560</td>\n",
       "      <td>168626858</td>\n",
       "      <td>108094</td>\n",
       "      <td>17028</td>\n",
       "    </tr>\n",
       "  </tbody>\n",
       "</table>\n",
       "</div>"
      ],
      "text/plain": [
       "   소속부서1   cnt   num       집행금액  인당집행금액  회당집행금액\n",
       "0  감사위원회  9903  1560  168626858  108094   17028"
      ]
     },
     "execution_count": 321,
     "metadata": {},
     "output_type": "execute_result"
    }
   ],
   "source": [
    "df_divs[5].sort_values(by='cnt', ascending=False).head(5)"
   ]
  },
  {
   "cell_type": "code",
   "execution_count": 322,
   "metadata": {},
   "outputs": [
    {
     "data": {
      "text/html": [
       "<div>\n",
       "<style scoped>\n",
       "    .dataframe tbody tr th:only-of-type {\n",
       "        vertical-align: middle;\n",
       "    }\n",
       "\n",
       "    .dataframe tbody tr th {\n",
       "        vertical-align: top;\n",
       "    }\n",
       "\n",
       "    .dataframe thead th {\n",
       "        text-align: right;\n",
       "    }\n",
       "</style>\n",
       "<table border=\"1\" class=\"dataframe\">\n",
       "  <thead>\n",
       "    <tr style=\"text-align: right;\">\n",
       "      <th></th>\n",
       "      <th>소속부서1</th>\n",
       "      <th>cnt</th>\n",
       "      <th>num</th>\n",
       "      <th>집행금액</th>\n",
       "      <th>인당집행금액</th>\n",
       "      <th>회당집행금액</th>\n",
       "    </tr>\n",
       "  </thead>\n",
       "  <tbody>\n",
       "    <tr>\n",
       "      <th>0</th>\n",
       "      <td>감사위원회</td>\n",
       "      <td>2668</td>\n",
       "      <td>721</td>\n",
       "      <td>49529830</td>\n",
       "      <td>68696</td>\n",
       "      <td>18564</td>\n",
       "    </tr>\n",
       "  </tbody>\n",
       "</table>\n",
       "</div>"
      ],
      "text/plain": [
       "   소속부서1   cnt  num      집행금액  인당집행금액  회당집행금액\n",
       "0  감사위원회  2668  721  49529830   68696   18564"
      ]
     },
     "execution_count": 322,
     "metadata": {},
     "output_type": "execute_result"
    }
   ],
   "source": [
    "df_divs[6].sort_values(by='cnt', ascending=False).head(5)"
   ]
  },
  {
   "cell_type": "markdown",
   "metadata": {},
   "source": [
    "### 2. 가장 돈을 많이 쓴 부서"
   ]
  },
  {
   "cell_type": "code",
   "execution_count": 323,
   "metadata": {},
   "outputs": [
    {
     "data": {
      "text/html": [
       "<div>\n",
       "<style scoped>\n",
       "    .dataframe tbody tr th:only-of-type {\n",
       "        vertical-align: middle;\n",
       "    }\n",
       "\n",
       "    .dataframe tbody tr th {\n",
       "        vertical-align: top;\n",
       "    }\n",
       "\n",
       "    .dataframe thead th {\n",
       "        text-align: right;\n",
       "    }\n",
       "</style>\n",
       "<table border=\"1\" class=\"dataframe\">\n",
       "  <thead>\n",
       "    <tr style=\"text-align: right;\">\n",
       "      <th></th>\n",
       "      <th>소속부서1</th>\n",
       "      <th>cnt</th>\n",
       "      <th>num</th>\n",
       "      <th>집행금액</th>\n",
       "      <th>인당집행금액</th>\n",
       "      <th>회당집행금액</th>\n",
       "    </tr>\n",
       "  </thead>\n",
       "  <tbody>\n",
       "    <tr>\n",
       "      <th>0</th>\n",
       "      <td>감사위원회</td>\n",
       "      <td>55441</td>\n",
       "      <td>7707</td>\n",
       "      <td>1011714832</td>\n",
       "      <td>131272</td>\n",
       "      <td>18248</td>\n",
       "    </tr>\n",
       "  </tbody>\n",
       "</table>\n",
       "</div>"
      ],
      "text/plain": [
       "   소속부서1    cnt   num        집행금액  인당집행금액  회당집행금액\n",
       "0  감사위원회  55441  7707  1011714832  131272   18248"
      ]
     },
     "execution_count": 323,
     "metadata": {},
     "output_type": "execute_result"
    }
   ],
   "source": [
    "# 전체\n",
    "df_divs[0].sort_values(by='집행금액', ascending=False).head(3)"
   ]
  },
  {
   "cell_type": "code",
   "execution_count": 324,
   "metadata": {},
   "outputs": [
    {
     "data": {
      "text/html": [
       "<div>\n",
       "<style scoped>\n",
       "    .dataframe tbody tr th:only-of-type {\n",
       "        vertical-align: middle;\n",
       "    }\n",
       "\n",
       "    .dataframe tbody tr th {\n",
       "        vertical-align: top;\n",
       "    }\n",
       "\n",
       "    .dataframe thead th {\n",
       "        text-align: right;\n",
       "    }\n",
       "</style>\n",
       "<table border=\"1\" class=\"dataframe\">\n",
       "  <thead>\n",
       "    <tr style=\"text-align: right;\">\n",
       "      <th></th>\n",
       "      <th>소속부서1</th>\n",
       "      <th>cnt</th>\n",
       "      <th>num</th>\n",
       "      <th>집행금액</th>\n",
       "      <th>인당집행금액</th>\n",
       "      <th>회당집행금액</th>\n",
       "    </tr>\n",
       "  </thead>\n",
       "  <tbody>\n",
       "    <tr>\n",
       "      <th>0</th>\n",
       "      <td>감사위원회</td>\n",
       "      <td>4987</td>\n",
       "      <td>477</td>\n",
       "      <td>104135000</td>\n",
       "      <td>218312</td>\n",
       "      <td>20881</td>\n",
       "    </tr>\n",
       "  </tbody>\n",
       "</table>\n",
       "</div>"
      ],
      "text/plain": [
       "   소속부서1   cnt  num       집행금액  인당집행금액  회당집행금액\n",
       "0  감사위원회  4987  477  104135000  218312   20881"
      ]
     },
     "execution_count": 324,
     "metadata": {},
     "output_type": "execute_result"
    }
   ],
   "source": [
    "# 2016\n",
    "df_divs[1].sort_values(by='집행금액', ascending=False).head(3)"
   ]
  },
  {
   "cell_type": "code",
   "execution_count": 325,
   "metadata": {},
   "outputs": [
    {
     "data": {
      "text/html": [
       "<div>\n",
       "<style scoped>\n",
       "    .dataframe tbody tr th:only-of-type {\n",
       "        vertical-align: middle;\n",
       "    }\n",
       "\n",
       "    .dataframe tbody tr th {\n",
       "        vertical-align: top;\n",
       "    }\n",
       "\n",
       "    .dataframe thead th {\n",
       "        text-align: right;\n",
       "    }\n",
       "</style>\n",
       "<table border=\"1\" class=\"dataframe\">\n",
       "  <thead>\n",
       "    <tr style=\"text-align: right;\">\n",
       "      <th></th>\n",
       "      <th>소속부서1</th>\n",
       "      <th>cnt</th>\n",
       "      <th>num</th>\n",
       "      <th>집행금액</th>\n",
       "      <th>인당집행금액</th>\n",
       "      <th>회당집행금액</th>\n",
       "    </tr>\n",
       "  </thead>\n",
       "  <tbody>\n",
       "    <tr>\n",
       "      <th>0</th>\n",
       "      <td>감사위원회</td>\n",
       "      <td>11802</td>\n",
       "      <td>1500</td>\n",
       "      <td>207158860</td>\n",
       "      <td>138106</td>\n",
       "      <td>17553</td>\n",
       "    </tr>\n",
       "  </tbody>\n",
       "</table>\n",
       "</div>"
      ],
      "text/plain": [
       "   소속부서1    cnt   num       집행금액  인당집행금액  회당집행금액\n",
       "0  감사위원회  11802  1500  207158860  138106   17553"
      ]
     },
     "execution_count": 325,
     "metadata": {},
     "output_type": "execute_result"
    }
   ],
   "source": [
    "# 2017\n",
    "df_divs[2].sort_values(by='집행금액', ascending=False).head(3)"
   ]
  },
  {
   "cell_type": "code",
   "execution_count": 326,
   "metadata": {},
   "outputs": [
    {
     "data": {
      "text/html": [
       "<div>\n",
       "<style scoped>\n",
       "    .dataframe tbody tr th:only-of-type {\n",
       "        vertical-align: middle;\n",
       "    }\n",
       "\n",
       "    .dataframe tbody tr th {\n",
       "        vertical-align: top;\n",
       "    }\n",
       "\n",
       "    .dataframe thead th {\n",
       "        text-align: right;\n",
       "    }\n",
       "</style>\n",
       "<table border=\"1\" class=\"dataframe\">\n",
       "  <thead>\n",
       "    <tr style=\"text-align: right;\">\n",
       "      <th></th>\n",
       "      <th>소속부서1</th>\n",
       "      <th>cnt</th>\n",
       "      <th>num</th>\n",
       "      <th>집행금액</th>\n",
       "      <th>인당집행금액</th>\n",
       "      <th>회당집행금액</th>\n",
       "    </tr>\n",
       "  </thead>\n",
       "  <tbody>\n",
       "    <tr>\n",
       "      <th>0</th>\n",
       "      <td>감사위원회</td>\n",
       "      <td>10329</td>\n",
       "      <td>1370</td>\n",
       "      <td>206881063</td>\n",
       "      <td>151008</td>\n",
       "      <td>20029</td>\n",
       "    </tr>\n",
       "  </tbody>\n",
       "</table>\n",
       "</div>"
      ],
      "text/plain": [
       "   소속부서1    cnt   num       집행금액  인당집행금액  회당집행금액\n",
       "0  감사위원회  10329  1370  206881063  151008   20029"
      ]
     },
     "execution_count": 326,
     "metadata": {},
     "output_type": "execute_result"
    }
   ],
   "source": [
    "# 2018\n",
    "df_divs[3].sort_values(by='집행금액', ascending=False).head(3)"
   ]
  },
  {
   "cell_type": "code",
   "execution_count": 327,
   "metadata": {},
   "outputs": [
    {
     "data": {
      "text/html": [
       "<div>\n",
       "<style scoped>\n",
       "    .dataframe tbody tr th:only-of-type {\n",
       "        vertical-align: middle;\n",
       "    }\n",
       "\n",
       "    .dataframe tbody tr th {\n",
       "        vertical-align: top;\n",
       "    }\n",
       "\n",
       "    .dataframe thead th {\n",
       "        text-align: right;\n",
       "    }\n",
       "</style>\n",
       "<table border=\"1\" class=\"dataframe\">\n",
       "  <thead>\n",
       "    <tr style=\"text-align: right;\">\n",
       "      <th></th>\n",
       "      <th>소속부서1</th>\n",
       "      <th>cnt</th>\n",
       "      <th>num</th>\n",
       "      <th>집행금액</th>\n",
       "      <th>인당집행금액</th>\n",
       "      <th>회당집행금액</th>\n",
       "    </tr>\n",
       "  </thead>\n",
       "  <tbody>\n",
       "    <tr>\n",
       "      <th>0</th>\n",
       "      <td>감사위원회</td>\n",
       "      <td>15642</td>\n",
       "      <td>2067</td>\n",
       "      <td>273185421</td>\n",
       "      <td>132165</td>\n",
       "      <td>17465</td>\n",
       "    </tr>\n",
       "  </tbody>\n",
       "</table>\n",
       "</div>"
      ],
      "text/plain": [
       "   소속부서1    cnt   num       집행금액  인당집행금액  회당집행금액\n",
       "0  감사위원회  15642  2067  273185421  132165   17465"
      ]
     },
     "execution_count": 327,
     "metadata": {},
     "output_type": "execute_result"
    }
   ],
   "source": [
    "\n",
    "df_divs[4].sort_values(by='집행금액', ascending=False).head(3)"
   ]
  },
  {
   "cell_type": "code",
   "execution_count": 328,
   "metadata": {},
   "outputs": [
    {
     "data": {
      "text/html": [
       "<div>\n",
       "<style scoped>\n",
       "    .dataframe tbody tr th:only-of-type {\n",
       "        vertical-align: middle;\n",
       "    }\n",
       "\n",
       "    .dataframe tbody tr th {\n",
       "        vertical-align: top;\n",
       "    }\n",
       "\n",
       "    .dataframe thead th {\n",
       "        text-align: right;\n",
       "    }\n",
       "</style>\n",
       "<table border=\"1\" class=\"dataframe\">\n",
       "  <thead>\n",
       "    <tr style=\"text-align: right;\">\n",
       "      <th></th>\n",
       "      <th>소속부서1</th>\n",
       "      <th>cnt</th>\n",
       "      <th>num</th>\n",
       "      <th>집행금액</th>\n",
       "      <th>인당집행금액</th>\n",
       "      <th>회당집행금액</th>\n",
       "    </tr>\n",
       "  </thead>\n",
       "  <tbody>\n",
       "    <tr>\n",
       "      <th>0</th>\n",
       "      <td>감사위원회</td>\n",
       "      <td>9903</td>\n",
       "      <td>1560</td>\n",
       "      <td>168626858</td>\n",
       "      <td>108094</td>\n",
       "      <td>17028</td>\n",
       "    </tr>\n",
       "  </tbody>\n",
       "</table>\n",
       "</div>"
      ],
      "text/plain": [
       "   소속부서1   cnt   num       집행금액  인당집행금액  회당집행금액\n",
       "0  감사위원회  9903  1560  168626858  108094   17028"
      ]
     },
     "execution_count": 328,
     "metadata": {},
     "output_type": "execute_result"
    }
   ],
   "source": [
    "\n",
    "df_divs[5].sort_values(by='집행금액', ascending=False).head(3)"
   ]
  },
  {
   "cell_type": "code",
   "execution_count": 329,
   "metadata": {},
   "outputs": [
    {
     "data": {
      "text/html": [
       "<div>\n",
       "<style scoped>\n",
       "    .dataframe tbody tr th:only-of-type {\n",
       "        vertical-align: middle;\n",
       "    }\n",
       "\n",
       "    .dataframe tbody tr th {\n",
       "        vertical-align: top;\n",
       "    }\n",
       "\n",
       "    .dataframe thead th {\n",
       "        text-align: right;\n",
       "    }\n",
       "</style>\n",
       "<table border=\"1\" class=\"dataframe\">\n",
       "  <thead>\n",
       "    <tr style=\"text-align: right;\">\n",
       "      <th></th>\n",
       "      <th>소속부서1</th>\n",
       "      <th>cnt</th>\n",
       "      <th>num</th>\n",
       "      <th>집행금액</th>\n",
       "      <th>인당집행금액</th>\n",
       "      <th>회당집행금액</th>\n",
       "    </tr>\n",
       "  </thead>\n",
       "  <tbody>\n",
       "    <tr>\n",
       "      <th>0</th>\n",
       "      <td>감사위원회</td>\n",
       "      <td>2668</td>\n",
       "      <td>721</td>\n",
       "      <td>49529830</td>\n",
       "      <td>68696</td>\n",
       "      <td>18564</td>\n",
       "    </tr>\n",
       "  </tbody>\n",
       "</table>\n",
       "</div>"
      ],
      "text/plain": [
       "   소속부서1   cnt  num      집행금액  인당집행금액  회당집행금액\n",
       "0  감사위원회  2668  721  49529830   68696   18564"
      ]
     },
     "execution_count": 329,
     "metadata": {},
     "output_type": "execute_result"
    }
   ],
   "source": [
    "\n",
    "df_divs[6].sort_values(by='집행금액', ascending=False).head(3)"
   ]
  },
  {
   "cell_type": "markdown",
   "metadata": {},
   "source": [
    "### 3. 가장 비싼 것을 먹는 부서"
   ]
  },
  {
   "cell_type": "code",
   "execution_count": 330,
   "metadata": {},
   "outputs": [
    {
     "data": {
      "text/html": [
       "<div>\n",
       "<style scoped>\n",
       "    .dataframe tbody tr th:only-of-type {\n",
       "        vertical-align: middle;\n",
       "    }\n",
       "\n",
       "    .dataframe tbody tr th {\n",
       "        vertical-align: top;\n",
       "    }\n",
       "\n",
       "    .dataframe thead th {\n",
       "        text-align: right;\n",
       "    }\n",
       "</style>\n",
       "<table border=\"1\" class=\"dataframe\">\n",
       "  <thead>\n",
       "    <tr style=\"text-align: right;\">\n",
       "      <th></th>\n",
       "      <th>소속부서1</th>\n",
       "      <th>cnt</th>\n",
       "      <th>num</th>\n",
       "      <th>집행금액</th>\n",
       "      <th>인당집행금액</th>\n",
       "      <th>회당집행금액</th>\n",
       "    </tr>\n",
       "  </thead>\n",
       "  <tbody>\n",
       "    <tr>\n",
       "      <th>0</th>\n",
       "      <td>감사위원회</td>\n",
       "      <td>55441</td>\n",
       "      <td>7707</td>\n",
       "      <td>1011714832</td>\n",
       "      <td>131272</td>\n",
       "      <td>18248</td>\n",
       "    </tr>\n",
       "  </tbody>\n",
       "</table>\n",
       "</div>"
      ],
      "text/plain": [
       "   소속부서1    cnt   num        집행금액  인당집행금액  회당집행금액\n",
       "0  감사위원회  55441  7707  1011714832  131272   18248"
      ]
     },
     "execution_count": 330,
     "metadata": {},
     "output_type": "execute_result"
    }
   ],
   "source": [
    "# 전체\n",
    "df_divs[0].sort_values(by='인당집행금액', ascending=False).head(3)"
   ]
  },
  {
   "cell_type": "code",
   "execution_count": 331,
   "metadata": {},
   "outputs": [
    {
     "data": {
      "text/html": [
       "<div>\n",
       "<style scoped>\n",
       "    .dataframe tbody tr th:only-of-type {\n",
       "        vertical-align: middle;\n",
       "    }\n",
       "\n",
       "    .dataframe tbody tr th {\n",
       "        vertical-align: top;\n",
       "    }\n",
       "\n",
       "    .dataframe thead th {\n",
       "        text-align: right;\n",
       "    }\n",
       "</style>\n",
       "<table border=\"1\" class=\"dataframe\">\n",
       "  <thead>\n",
       "    <tr style=\"text-align: right;\">\n",
       "      <th></th>\n",
       "      <th>소속부서1</th>\n",
       "      <th>cnt</th>\n",
       "      <th>num</th>\n",
       "      <th>집행금액</th>\n",
       "      <th>인당집행금액</th>\n",
       "      <th>회당집행금액</th>\n",
       "    </tr>\n",
       "  </thead>\n",
       "  <tbody>\n",
       "    <tr>\n",
       "      <th>0</th>\n",
       "      <td>감사위원회</td>\n",
       "      <td>4987</td>\n",
       "      <td>477</td>\n",
       "      <td>104135000</td>\n",
       "      <td>218312</td>\n",
       "      <td>20881</td>\n",
       "    </tr>\n",
       "  </tbody>\n",
       "</table>\n",
       "</div>"
      ],
      "text/plain": [
       "   소속부서1   cnt  num       집행금액  인당집행금액  회당집행금액\n",
       "0  감사위원회  4987  477  104135000  218312   20881"
      ]
     },
     "execution_count": 331,
     "metadata": {},
     "output_type": "execute_result"
    }
   ],
   "source": [
    "# 2016년\n",
    "# 역시 김영란법 시행 전이라 3만원이 넘는다. \n",
    "df_divs[1].sort_values(by='인당집행금액', ascending=False).head(3)"
   ]
  },
  {
   "cell_type": "code",
   "execution_count": 332,
   "metadata": {},
   "outputs": [
    {
     "data": {
      "text/html": [
       "<div>\n",
       "<style scoped>\n",
       "    .dataframe tbody tr th:only-of-type {\n",
       "        vertical-align: middle;\n",
       "    }\n",
       "\n",
       "    .dataframe tbody tr th {\n",
       "        vertical-align: top;\n",
       "    }\n",
       "\n",
       "    .dataframe thead th {\n",
       "        text-align: right;\n",
       "    }\n",
       "</style>\n",
       "<table border=\"1\" class=\"dataframe\">\n",
       "  <thead>\n",
       "    <tr style=\"text-align: right;\">\n",
       "      <th></th>\n",
       "      <th>소속부서1</th>\n",
       "      <th>cnt</th>\n",
       "      <th>num</th>\n",
       "      <th>집행금액</th>\n",
       "      <th>인당집행금액</th>\n",
       "      <th>회당집행금액</th>\n",
       "    </tr>\n",
       "  </thead>\n",
       "  <tbody>\n",
       "    <tr>\n",
       "      <th>0</th>\n",
       "      <td>감사위원회</td>\n",
       "      <td>11802</td>\n",
       "      <td>1500</td>\n",
       "      <td>207158860</td>\n",
       "      <td>138106</td>\n",
       "      <td>17553</td>\n",
       "    </tr>\n",
       "  </tbody>\n",
       "</table>\n",
       "</div>"
      ],
      "text/plain": [
       "   소속부서1    cnt   num       집행금액  인당집행금액  회당집행금액\n",
       "0  감사위원회  11802  1500  207158860  138106   17553"
      ]
     },
     "execution_count": 332,
     "metadata": {},
     "output_type": "execute_result"
    }
   ],
   "source": [
    "# 2017년\n",
    "# 라고 생각했는데 시행 후에도 3만원 넘는것 무엇...\n",
    "df_divs[2].sort_values(by='인당집행금액', ascending=False).head(3)"
   ]
  },
  {
   "cell_type": "code",
   "execution_count": 333,
   "metadata": {},
   "outputs": [
    {
     "data": {
      "text/html": [
       "<div>\n",
       "<style scoped>\n",
       "    .dataframe tbody tr th:only-of-type {\n",
       "        vertical-align: middle;\n",
       "    }\n",
       "\n",
       "    .dataframe tbody tr th {\n",
       "        vertical-align: top;\n",
       "    }\n",
       "\n",
       "    .dataframe thead th {\n",
       "        text-align: right;\n",
       "    }\n",
       "</style>\n",
       "<table border=\"1\" class=\"dataframe\">\n",
       "  <thead>\n",
       "    <tr style=\"text-align: right;\">\n",
       "      <th></th>\n",
       "      <th>소속부서1</th>\n",
       "      <th>cnt</th>\n",
       "      <th>num</th>\n",
       "      <th>집행금액</th>\n",
       "      <th>인당집행금액</th>\n",
       "      <th>회당집행금액</th>\n",
       "    </tr>\n",
       "  </thead>\n",
       "  <tbody>\n",
       "    <tr>\n",
       "      <th>0</th>\n",
       "      <td>감사위원회</td>\n",
       "      <td>10329</td>\n",
       "      <td>1370</td>\n",
       "      <td>206881063</td>\n",
       "      <td>151008</td>\n",
       "      <td>20029</td>\n",
       "    </tr>\n",
       "  </tbody>\n",
       "</table>\n",
       "</div>"
      ],
      "text/plain": [
       "   소속부서1    cnt   num       집행금액  인당집행금액  회당집행금액\n",
       "0  감사위원회  10329  1370  206881063  151008   20029"
      ]
     },
     "execution_count": 333,
     "metadata": {},
     "output_type": "execute_result"
    }
   ],
   "source": [
    "# 2018년\n",
    "# 인당 7만 5천원?? 나중에 부시장 데이터 꼼꼼히 살펴보기\n",
    "df_divs[3].sort_values(by='인당집행금액', ascending=False).head(3)"
   ]
  },
  {
   "cell_type": "code",
   "execution_count": 334,
   "metadata": {},
   "outputs": [
    {
     "data": {
      "text/html": [
       "<div>\n",
       "<style scoped>\n",
       "    .dataframe tbody tr th:only-of-type {\n",
       "        vertical-align: middle;\n",
       "    }\n",
       "\n",
       "    .dataframe tbody tr th {\n",
       "        vertical-align: top;\n",
       "    }\n",
       "\n",
       "    .dataframe thead th {\n",
       "        text-align: right;\n",
       "    }\n",
       "</style>\n",
       "<table border=\"1\" class=\"dataframe\">\n",
       "  <thead>\n",
       "    <tr style=\"text-align: right;\">\n",
       "      <th></th>\n",
       "      <th>소속부서1</th>\n",
       "      <th>cnt</th>\n",
       "      <th>num</th>\n",
       "      <th>집행금액</th>\n",
       "      <th>인당집행금액</th>\n",
       "      <th>회당집행금액</th>\n",
       "    </tr>\n",
       "  </thead>\n",
       "  <tbody>\n",
       "    <tr>\n",
       "      <th>0</th>\n",
       "      <td>감사위원회</td>\n",
       "      <td>15642</td>\n",
       "      <td>2067</td>\n",
       "      <td>273185421</td>\n",
       "      <td>132165</td>\n",
       "      <td>17465</td>\n",
       "    </tr>\n",
       "  </tbody>\n",
       "</table>\n",
       "</div>"
      ],
      "text/plain": [
       "   소속부서1    cnt   num       집행금액  인당집행금액  회당집행금액\n",
       "0  감사위원회  15642  2067  273185421  132165   17465"
      ]
     },
     "execution_count": 334,
     "metadata": {},
     "output_type": "execute_result"
    }
   ],
   "source": [
    "df_divs[4].sort_values(by='인당집행금액', ascending=False).head(3)"
   ]
  },
  {
   "cell_type": "code",
   "execution_count": 335,
   "metadata": {},
   "outputs": [
    {
     "data": {
      "text/html": [
       "<div>\n",
       "<style scoped>\n",
       "    .dataframe tbody tr th:only-of-type {\n",
       "        vertical-align: middle;\n",
       "    }\n",
       "\n",
       "    .dataframe tbody tr th {\n",
       "        vertical-align: top;\n",
       "    }\n",
       "\n",
       "    .dataframe thead th {\n",
       "        text-align: right;\n",
       "    }\n",
       "</style>\n",
       "<table border=\"1\" class=\"dataframe\">\n",
       "  <thead>\n",
       "    <tr style=\"text-align: right;\">\n",
       "      <th></th>\n",
       "      <th>소속부서1</th>\n",
       "      <th>cnt</th>\n",
       "      <th>num</th>\n",
       "      <th>집행금액</th>\n",
       "      <th>인당집행금액</th>\n",
       "      <th>회당집행금액</th>\n",
       "    </tr>\n",
       "  </thead>\n",
       "  <tbody>\n",
       "    <tr>\n",
       "      <th>0</th>\n",
       "      <td>감사위원회</td>\n",
       "      <td>9903</td>\n",
       "      <td>1560</td>\n",
       "      <td>168626858</td>\n",
       "      <td>108094</td>\n",
       "      <td>17028</td>\n",
       "    </tr>\n",
       "  </tbody>\n",
       "</table>\n",
       "</div>"
      ],
      "text/plain": [
       "   소속부서1   cnt   num       집행금액  인당집행금액  회당집행금액\n",
       "0  감사위원회  9903  1560  168626858  108094   17028"
      ]
     },
     "execution_count": 335,
     "metadata": {},
     "output_type": "execute_result"
    }
   ],
   "source": [
    "df_divs[5].sort_values(by='인당집행금액', ascending=False).head(3)"
   ]
  },
  {
   "cell_type": "code",
   "execution_count": 336,
   "metadata": {},
   "outputs": [
    {
     "data": {
      "text/html": [
       "<div>\n",
       "<style scoped>\n",
       "    .dataframe tbody tr th:only-of-type {\n",
       "        vertical-align: middle;\n",
       "    }\n",
       "\n",
       "    .dataframe tbody tr th {\n",
       "        vertical-align: top;\n",
       "    }\n",
       "\n",
       "    .dataframe thead th {\n",
       "        text-align: right;\n",
       "    }\n",
       "</style>\n",
       "<table border=\"1\" class=\"dataframe\">\n",
       "  <thead>\n",
       "    <tr style=\"text-align: right;\">\n",
       "      <th></th>\n",
       "      <th>소속부서1</th>\n",
       "      <th>cnt</th>\n",
       "      <th>num</th>\n",
       "      <th>집행금액</th>\n",
       "      <th>인당집행금액</th>\n",
       "      <th>회당집행금액</th>\n",
       "    </tr>\n",
       "  </thead>\n",
       "  <tbody>\n",
       "    <tr>\n",
       "      <th>0</th>\n",
       "      <td>감사위원회</td>\n",
       "      <td>2668</td>\n",
       "      <td>721</td>\n",
       "      <td>49529830</td>\n",
       "      <td>68696</td>\n",
       "      <td>18564</td>\n",
       "    </tr>\n",
       "  </tbody>\n",
       "</table>\n",
       "</div>"
      ],
      "text/plain": [
       "   소속부서1   cnt  num      집행금액  인당집행금액  회당집행금액\n",
       "0  감사위원회  2668  721  49529830   68696   18564"
      ]
     },
     "execution_count": 336,
     "metadata": {},
     "output_type": "execute_result"
    }
   ],
   "source": [
    "df_divs[6].sort_values(by='인당집행금액', ascending=False).head(3)"
   ]
  },
  {
   "cell_type": "markdown",
   "metadata": {},
   "source": [
    "### 4. 가장 싼 것을 먹는 부서"
   ]
  },
  {
   "cell_type": "code",
   "execution_count": 337,
   "metadata": {},
   "outputs": [
    {
     "data": {
      "text/html": [
       "<div>\n",
       "<style scoped>\n",
       "    .dataframe tbody tr th:only-of-type {\n",
       "        vertical-align: middle;\n",
       "    }\n",
       "\n",
       "    .dataframe tbody tr th {\n",
       "        vertical-align: top;\n",
       "    }\n",
       "\n",
       "    .dataframe thead th {\n",
       "        text-align: right;\n",
       "    }\n",
       "</style>\n",
       "<table border=\"1\" class=\"dataframe\">\n",
       "  <thead>\n",
       "    <tr style=\"text-align: right;\">\n",
       "      <th></th>\n",
       "      <th>소속부서1</th>\n",
       "      <th>cnt</th>\n",
       "      <th>num</th>\n",
       "      <th>집행금액</th>\n",
       "      <th>인당집행금액</th>\n",
       "      <th>회당집행금액</th>\n",
       "    </tr>\n",
       "  </thead>\n",
       "  <tbody>\n",
       "    <tr>\n",
       "      <th>0</th>\n",
       "      <td>감사위원회</td>\n",
       "      <td>55441</td>\n",
       "      <td>7707</td>\n",
       "      <td>1011714832</td>\n",
       "      <td>131272</td>\n",
       "      <td>18248</td>\n",
       "    </tr>\n",
       "  </tbody>\n",
       "</table>\n",
       "</div>"
      ],
      "text/plain": [
       "   소속부서1    cnt   num        집행금액  인당집행금액  회당집행금액\n",
       "0  감사위원회  55441  7707  1011714832  131272   18248"
      ]
     },
     "execution_count": 337,
     "metadata": {},
     "output_type": "execute_result"
    }
   ],
   "source": [
    "# 전체\n",
    "df_divs[0].sort_values(by='인당집행금액', ascending=True).head(3)\n",
    "# 인당 6000원대라니 8배 차이나는 이 빈부격차 무엇.."
   ]
  },
  {
   "cell_type": "code",
   "execution_count": 338,
   "metadata": {},
   "outputs": [
    {
     "data": {
      "text/html": [
       "<div>\n",
       "<style scoped>\n",
       "    .dataframe tbody tr th:only-of-type {\n",
       "        vertical-align: middle;\n",
       "    }\n",
       "\n",
       "    .dataframe tbody tr th {\n",
       "        vertical-align: top;\n",
       "    }\n",
       "\n",
       "    .dataframe thead th {\n",
       "        text-align: right;\n",
       "    }\n",
       "</style>\n",
       "<table border=\"1\" class=\"dataframe\">\n",
       "  <thead>\n",
       "    <tr style=\"text-align: right;\">\n",
       "      <th></th>\n",
       "      <th>소속부서1</th>\n",
       "      <th>cnt</th>\n",
       "      <th>num</th>\n",
       "      <th>집행금액</th>\n",
       "      <th>인당집행금액</th>\n",
       "      <th>회당집행금액</th>\n",
       "    </tr>\n",
       "  </thead>\n",
       "  <tbody>\n",
       "    <tr>\n",
       "      <th>0</th>\n",
       "      <td>감사위원회</td>\n",
       "      <td>4987</td>\n",
       "      <td>477</td>\n",
       "      <td>104135000</td>\n",
       "      <td>218312</td>\n",
       "      <td>20881</td>\n",
       "    </tr>\n",
       "  </tbody>\n",
       "</table>\n",
       "</div>"
      ],
      "text/plain": [
       "   소속부서1   cnt  num       집행금액  인당집행금액  회당집행금액\n",
       "0  감사위원회  4987  477  104135000  218312   20881"
      ]
     },
     "execution_count": 338,
     "metadata": {},
     "output_type": "execute_result"
    }
   ],
   "source": [
    "# 2016년\n",
    "df_divs[1].sort_values(by='인당집행금액', ascending=True).head(3)"
   ]
  },
  {
   "cell_type": "code",
   "execution_count": 339,
   "metadata": {},
   "outputs": [
    {
     "data": {
      "text/html": [
       "<div>\n",
       "<style scoped>\n",
       "    .dataframe tbody tr th:only-of-type {\n",
       "        vertical-align: middle;\n",
       "    }\n",
       "\n",
       "    .dataframe tbody tr th {\n",
       "        vertical-align: top;\n",
       "    }\n",
       "\n",
       "    .dataframe thead th {\n",
       "        text-align: right;\n",
       "    }\n",
       "</style>\n",
       "<table border=\"1\" class=\"dataframe\">\n",
       "  <thead>\n",
       "    <tr style=\"text-align: right;\">\n",
       "      <th></th>\n",
       "      <th>소속부서1</th>\n",
       "      <th>cnt</th>\n",
       "      <th>num</th>\n",
       "      <th>집행금액</th>\n",
       "      <th>인당집행금액</th>\n",
       "      <th>회당집행금액</th>\n",
       "    </tr>\n",
       "  </thead>\n",
       "  <tbody>\n",
       "    <tr>\n",
       "      <th>0</th>\n",
       "      <td>감사위원회</td>\n",
       "      <td>11802</td>\n",
       "      <td>1500</td>\n",
       "      <td>207158860</td>\n",
       "      <td>138106</td>\n",
       "      <td>17553</td>\n",
       "    </tr>\n",
       "  </tbody>\n",
       "</table>\n",
       "</div>"
      ],
      "text/plain": [
       "   소속부서1    cnt   num       집행금액  인당집행금액  회당집행금액\n",
       "0  감사위원회  11802  1500  207158860  138106   17553"
      ]
     },
     "execution_count": 339,
     "metadata": {},
     "output_type": "execute_result"
    }
   ],
   "source": [
    "# 2017년\n",
    "df_divs[2].sort_values(by='인당집행금액', ascending=True).head(3)"
   ]
  },
  {
   "cell_type": "code",
   "execution_count": 340,
   "metadata": {},
   "outputs": [
    {
     "data": {
      "text/html": [
       "<div>\n",
       "<style scoped>\n",
       "    .dataframe tbody tr th:only-of-type {\n",
       "        vertical-align: middle;\n",
       "    }\n",
       "\n",
       "    .dataframe tbody tr th {\n",
       "        vertical-align: top;\n",
       "    }\n",
       "\n",
       "    .dataframe thead th {\n",
       "        text-align: right;\n",
       "    }\n",
       "</style>\n",
       "<table border=\"1\" class=\"dataframe\">\n",
       "  <thead>\n",
       "    <tr style=\"text-align: right;\">\n",
       "      <th></th>\n",
       "      <th>소속부서1</th>\n",
       "      <th>cnt</th>\n",
       "      <th>num</th>\n",
       "      <th>집행금액</th>\n",
       "      <th>인당집행금액</th>\n",
       "      <th>회당집행금액</th>\n",
       "    </tr>\n",
       "  </thead>\n",
       "  <tbody>\n",
       "    <tr>\n",
       "      <th>0</th>\n",
       "      <td>감사위원회</td>\n",
       "      <td>10329</td>\n",
       "      <td>1370</td>\n",
       "      <td>206881063</td>\n",
       "      <td>151008</td>\n",
       "      <td>20029</td>\n",
       "    </tr>\n",
       "  </tbody>\n",
       "</table>\n",
       "</div>"
      ],
      "text/plain": [
       "   소속부서1    cnt   num       집행금액  인당집행금액  회당집행금액\n",
       "0  감사위원회  10329  1370  206881063  151008   20029"
      ]
     },
     "execution_count": 340,
     "metadata": {},
     "output_type": "execute_result"
    }
   ],
   "source": [
    "# 2018년\n",
    "# 재무국이 꾸준하게 하위권. 시의 예산을 보면 차마 비싼 것을 먹을 수 없는 것일까\n",
    "df_divs[3].sort_values(by='인당집행금액', ascending=True).head(3)"
   ]
  },
  {
   "cell_type": "code",
   "execution_count": 341,
   "metadata": {},
   "outputs": [
    {
     "data": {
      "text/html": [
       "<div>\n",
       "<style scoped>\n",
       "    .dataframe tbody tr th:only-of-type {\n",
       "        vertical-align: middle;\n",
       "    }\n",
       "\n",
       "    .dataframe tbody tr th {\n",
       "        vertical-align: top;\n",
       "    }\n",
       "\n",
       "    .dataframe thead th {\n",
       "        text-align: right;\n",
       "    }\n",
       "</style>\n",
       "<table border=\"1\" class=\"dataframe\">\n",
       "  <thead>\n",
       "    <tr style=\"text-align: right;\">\n",
       "      <th></th>\n",
       "      <th>소속부서1</th>\n",
       "      <th>cnt</th>\n",
       "      <th>num</th>\n",
       "      <th>집행금액</th>\n",
       "      <th>인당집행금액</th>\n",
       "      <th>회당집행금액</th>\n",
       "    </tr>\n",
       "  </thead>\n",
       "  <tbody>\n",
       "    <tr>\n",
       "      <th>0</th>\n",
       "      <td>감사위원회</td>\n",
       "      <td>15642</td>\n",
       "      <td>2067</td>\n",
       "      <td>273185421</td>\n",
       "      <td>132165</td>\n",
       "      <td>17465</td>\n",
       "    </tr>\n",
       "  </tbody>\n",
       "</table>\n",
       "</div>"
      ],
      "text/plain": [
       "   소속부서1    cnt   num       집행금액  인당집행금액  회당집행금액\n",
       "0  감사위원회  15642  2067  273185421  132165   17465"
      ]
     },
     "execution_count": 341,
     "metadata": {},
     "output_type": "execute_result"
    }
   ],
   "source": [
    "df_divs[4].sort_values(by='인당집행금액', ascending=True).head(3)"
   ]
  },
  {
   "cell_type": "code",
   "execution_count": 342,
   "metadata": {},
   "outputs": [
    {
     "data": {
      "text/html": [
       "<div>\n",
       "<style scoped>\n",
       "    .dataframe tbody tr th:only-of-type {\n",
       "        vertical-align: middle;\n",
       "    }\n",
       "\n",
       "    .dataframe tbody tr th {\n",
       "        vertical-align: top;\n",
       "    }\n",
       "\n",
       "    .dataframe thead th {\n",
       "        text-align: right;\n",
       "    }\n",
       "</style>\n",
       "<table border=\"1\" class=\"dataframe\">\n",
       "  <thead>\n",
       "    <tr style=\"text-align: right;\">\n",
       "      <th></th>\n",
       "      <th>소속부서1</th>\n",
       "      <th>cnt</th>\n",
       "      <th>num</th>\n",
       "      <th>집행금액</th>\n",
       "      <th>인당집행금액</th>\n",
       "      <th>회당집행금액</th>\n",
       "    </tr>\n",
       "  </thead>\n",
       "  <tbody>\n",
       "    <tr>\n",
       "      <th>0</th>\n",
       "      <td>감사위원회</td>\n",
       "      <td>9903</td>\n",
       "      <td>1560</td>\n",
       "      <td>168626858</td>\n",
       "      <td>108094</td>\n",
       "      <td>17028</td>\n",
       "    </tr>\n",
       "  </tbody>\n",
       "</table>\n",
       "</div>"
      ],
      "text/plain": [
       "   소속부서1   cnt   num       집행금액  인당집행금액  회당집행금액\n",
       "0  감사위원회  9903  1560  168626858  108094   17028"
      ]
     },
     "execution_count": 342,
     "metadata": {},
     "output_type": "execute_result"
    }
   ],
   "source": [
    "df_divs[5].sort_values(by='인당집행금액', ascending=True).head(3)"
   ]
  },
  {
   "cell_type": "code",
   "execution_count": 343,
   "metadata": {},
   "outputs": [
    {
     "data": {
      "text/html": [
       "<div>\n",
       "<style scoped>\n",
       "    .dataframe tbody tr th:only-of-type {\n",
       "        vertical-align: middle;\n",
       "    }\n",
       "\n",
       "    .dataframe tbody tr th {\n",
       "        vertical-align: top;\n",
       "    }\n",
       "\n",
       "    .dataframe thead th {\n",
       "        text-align: right;\n",
       "    }\n",
       "</style>\n",
       "<table border=\"1\" class=\"dataframe\">\n",
       "  <thead>\n",
       "    <tr style=\"text-align: right;\">\n",
       "      <th></th>\n",
       "      <th>소속부서1</th>\n",
       "      <th>cnt</th>\n",
       "      <th>num</th>\n",
       "      <th>집행금액</th>\n",
       "      <th>인당집행금액</th>\n",
       "      <th>회당집행금액</th>\n",
       "    </tr>\n",
       "  </thead>\n",
       "  <tbody>\n",
       "    <tr>\n",
       "      <th>0</th>\n",
       "      <td>감사위원회</td>\n",
       "      <td>2668</td>\n",
       "      <td>721</td>\n",
       "      <td>49529830</td>\n",
       "      <td>68696</td>\n",
       "      <td>18564</td>\n",
       "    </tr>\n",
       "  </tbody>\n",
       "</table>\n",
       "</div>"
      ],
      "text/plain": [
       "   소속부서1   cnt  num      집행금액  인당집행금액  회당집행금액\n",
       "0  감사위원회  2668  721  49529830   68696   18564"
      ]
     },
     "execution_count": 343,
     "metadata": {},
     "output_type": "execute_result"
    }
   ],
   "source": [
    "df_divs[6].sort_values(by='인당집행금액', ascending=True).head(3)"
   ]
  },
  {
   "cell_type": "code",
   "execution_count": null,
   "metadata": {},
   "outputs": [],
   "source": []
  },
  {
   "cell_type": "code",
   "execution_count": null,
   "metadata": {},
   "outputs": [],
   "source": []
  },
  {
   "cell_type": "code",
   "execution_count": null,
   "metadata": {},
   "outputs": [],
   "source": []
  }
 ],
 "metadata": {
  "interpreter": {
   "hash": "b3ba2566441a7c06988d0923437866b63cedc61552a5af99d1f4fb67d367b25f"
  },
  "kernelspec": {
   "display_name": "Python 3",
   "language": "python",
   "name": "python3"
  },
  "language_info": {
   "codemirror_mode": {
    "name": "ipython",
    "version": 3
   },
   "file_extension": ".py",
   "mimetype": "text/x-python",
   "name": "python",
   "nbconvert_exporter": "python",
   "pygments_lexer": "ipython3",
   "version": "3.8.8"
  }
 },
 "nbformat": 4,
 "nbformat_minor": 2
}
