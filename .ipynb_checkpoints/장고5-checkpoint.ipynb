{
 "cells": [
  {
   "cell_type": "code",
   "execution_count": null,
   "id": "6d9bf742",
   "metadata": {},
   "outputs": [],
   "source": [
    "STATICFILES_DIRS=[\n",
    "    os.path.join(BASE_DIR,'config','static')\n",
    "]\n"
   ]
  },
  {
   "cell_type": "code",
   "execution_count": null,
   "id": "712aebd0",
   "metadata": {},
   "outputs": [],
   "source": [
    "#Media files\n",
    "MEDIA_URL = '/media/'\n",
    "MEDIA_ROOT = os.path.join(BASE_DIR,'media')\n"
   ]
  },
  {
   "cell_type": "code",
   "execution_count": null,
   "id": "c6043f07",
   "metadata": {},
   "outputs": [],
   "source": [
    "from django.contrib import admin\n",
    "from django.urls import path,include\n",
    "\n",
    "urlpatterns = [\n",
    "    path('admin/', admin.site.urls),\n",
    "    path('',include('main.urls'),name='insta'),  # http://127.0.0.1:8000\n",
    "]\n"
   ]
  },
  {
   "cell_type": "code",
   "execution_count": null,
   "id": "87c0ecfe",
   "metadata": {},
   "outputs": [],
   "source": [
    "from django.urls import path, include\n",
    "from main.views import index\n",
    "\n",
    "\n",
    "app_name = 'insta' # front(html 파일)에서 url을 쉽게 조합하기 위해서도 사용됨\n",
    "\n",
    "urlpatterns = [\n",
    "    path('', index, name='index'),\n",
    "\n",
    "]\n"
   ]
  },
  {
   "cell_type": "code",
   "execution_count": null,
   "id": "2e304c34",
   "metadata": {},
   "outputs": [],
   "source": [
    "from django.shortcuts import render\n",
    "\n",
    "# Create your views here.\n",
    "\n",
    "def index(request) :\n",
    "    return render(request, 'main/index.html')\n"
   ]
  },
  {
   "cell_type": "code",
   "execution_count": null,
   "id": "85eb381a",
   "metadata": {},
   "outputs": [],
   "source": [
    "pragma table_info(auth_user);\n"
   ]
  },
  {
   "cell_type": "code",
   "execution_count": null,
   "id": "52289e36",
   "metadata": {},
   "outputs": [],
   "source": [
    "python manage.py createsuperuser\n"
   ]
  },
  {
   "cell_type": "code",
   "execution_count": null,
   "id": "75a41454",
   "metadata": {},
   "outputs": [],
   "source": [
    "path('accounts/',include('accounts.urls'),name='accounts'),\n"
   ]
  },
  {
   "cell_type": "code",
   "execution_count": null,
   "id": "a5a6cb9b",
   "metadata": {},
   "outputs": [],
   "source": [
    "from django.urls import path, include\n",
    "from main.views import index\n",
    "from django.contrib.auth import views as auth_views\n",
    "from . import views\n",
    "\n",
    "app_name = 'accounts'\n",
    "\n",
    "urlpatterns = [\n",
    "    path('login/', auth_views.LoginView.as_view(template_name='accounts/login.html'), name='login'),\n",
    "    path('logout/', auth_views.LogoutView.as_view(), name='logout'),\n",
    "    path('signup/', views.signup, name='signup'),\n",
    "\n",
    "]\n"
   ]
  },
  {
   "cell_type": "code",
   "execution_count": null,
   "id": "14c3b5aa",
   "metadata": {},
   "outputs": [],
   "source": [
    "from django.shortcuts import render\n",
    "\n",
    "# Create your views here.\n",
    "\n",
    "def signup(request) : \n",
    "    pass\n"
   ]
  },
  {
   "cell_type": "code",
   "execution_count": null,
   "id": "a5e3ec1a",
   "metadata": {},
   "outputs": [],
   "source": [
    "# 로그인 성공후 이동하는 URL\n",
    "LOGIN_REDIRECT_URL = '/'\n",
    "LOGOUT_REDIRECT_URL = '/'\n"
   ]
  },
  {
   "cell_type": "code",
   "execution_count": null,
   "id": "386ea9ea",
   "metadata": {},
   "outputs": [],
   "source": [
    "from django import forms\n",
    "from django.contrib.auth.forms import UserCreationForm\n",
    "from django.contrib.auth.models import User\n",
    "\n",
    "\n",
    "class UserForm(UserCreationForm):\n",
    "    email = forms.EmailField(label=\"이메일\")\n",
    "    # last_name = forms.CharField(label='닉네임')\n",
    "    last_name = forms.CharField(max_length=30, required=False)\n",
    "    class Meta:\n",
    "        model = User\n",
    "        fields = (\"username\",\"last_name\", \"email\",)\n"
   ]
  },
  {
   "cell_type": "code",
   "execution_count": null,
   "id": "2663f784",
   "metadata": {},
   "outputs": [],
   "source": [
    "from django.shortcuts import render, redirect\n",
    "from accounts.forms import UserForm\n",
    "\n",
    "def signup(request):\n",
    "    \"\"\"\n",
    "    계정생성\n",
    "    \"\"\"\n",
    "    if request.method == \"POST\":\n",
    "        form = UserForm(request.POST)\n",
    "        if form.is_valid():\n",
    "            form.save()\n",
    "            username = form.cleaned_data.get('username')\n",
    "            raw_password = form.cleaned_data.get('password1')\n",
    "            user = authenticate(username=username, password=raw_password )\n",
    "            login(request, user)\n",
    "            return redirect('http://127.0.0.1:8000')\n",
    "    else:\n",
    "        form = UserForm()\n",
    "    return render(request, 'accounts/signup.html', {'form': form})\n"
   ]
  },
  {
   "cell_type": "code",
   "execution_count": null,
   "id": "9d440a15",
   "metadata": {},
   "outputs": [],
   "source": [
    "from django.contrib.auth import authenticate, login\n"
   ]
  },
  {
   "cell_type": "code",
   "execution_count": null,
   "id": "fcaf6fa4",
   "metadata": {},
   "outputs": [],
   "source": []
  },
  {
   "cell_type": "code",
   "execution_count": null,
   "id": "a8844463",
   "metadata": {},
   "outputs": [],
   "source": []
  },
  {
   "cell_type": "code",
   "execution_count": null,
   "id": "24f12d2f",
   "metadata": {},
   "outputs": [],
   "source": []
  }
 ],
 "metadata": {
  "kernelspec": {
   "display_name": "Python 3",
   "language": "python",
   "name": "python3"
  },
  "language_info": {
   "codemirror_mode": {
    "name": "ipython",
    "version": 3
   },
   "file_extension": ".py",
   "mimetype": "text/x-python",
   "name": "python",
   "nbconvert_exporter": "python",
   "pygments_lexer": "ipython3",
   "version": "3.8.8"
  }
 },
 "nbformat": 4,
 "nbformat_minor": 5
}
